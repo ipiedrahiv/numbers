{
 "cells": [
  {
   "cell_type": "markdown",
   "metadata": {},
   "source": [
    "# Incremental Search\n",
    "\n",
    "This algorithm will find an interval [a, b] in which a continuous function f intercepts the x-axis."
   ]
  },
  {
   "cell_type": "code",
   "execution_count": 2,
   "metadata": {},
   "outputs": [],
   "source": [
    "import math"
   ]
  },
  {
   "cell_type": "code",
   "execution_count": 1,
   "metadata": {},
   "outputs": [],
   "source": [
    "def incemental_search(f, x0, h, max_iterations):\n",
    "    previous_x = x0 # Xn-1\n",
    "    current_x = x0 + h # Xn\n",
    "    \n",
    "    previous_f = f(previous_x) # f(Xn-1)\n",
    "    current_f = f(current_x) # f(Xn)\n",
    "    \n",
    "    counter = 0\n",
    "    \n",
    "    print(f'Iteration no. {counter} | Xn-1 = {previous_x} | Xn = {current_x} | f(Xn-1) = {previous_f} | f(Xn) = {current_f}')\n",
    "    \n",
    "    while (previous_f * current_f > 0) and (counter < max_iterations):\n",
    "        previous_x = current_x\n",
    "        current_x = previous_x + h\n",
    "        \n",
    "        previous_f = current_f\n",
    "        current_f = f(current_x)\n",
    "        \n",
    "        counter += 1\n",
    "        \n",
    "        print(f'Iteration no. {counter} | Xn-1 = {previous_x} | Xn = {current_x} | f(Xn-1) = {previous_f} | f(Xn) = {current_f}')\n",
    "        \n",
    "    if previous_f * current_f < 0:\n",
    "        print (f'There is a root in the interval [{previous_x},{current_x}]')\n",
    "        return [previous_x, current_x]\n",
    "    else:\n",
    "        print ('We have failed to find a root :(')\n",
    "        return None\n",
    "    "
   ]
  },
  {
   "cell_type": "code",
   "execution_count": 5,
   "metadata": {},
   "outputs": [
    {
     "name": "stdout",
     "output_type": "stream",
     "text": [
      "Iteration no. 0 | Xn-1 = 0.22 | Xn = 0.221 | f(Xn-1) = 0.03177991906350919 | f(Xn) = 0.028435369513515107\n",
      "Iteration no. 1 | Xn-1 = 0.221 | Xn = 0.222 | f(Xn-1) = 0.028435369513515107 | f(Xn) = 0.025103994164743848\n",
      "Iteration no. 2 | Xn-1 = 0.222 | Xn = 0.223 | f(Xn-1) = 0.025103994164743848 | f(Xn) = 0.02178583269677581\n",
      "Iteration no. 3 | Xn-1 = 0.223 | Xn = 0.224 | f(Xn-1) = 0.02178583269677581 | f(Xn) = 0.01848092459138495\n",
      "Iteration no. 4 | Xn-1 = 0.224 | Xn = 0.225 | f(Xn-1) = 0.01848092459138495 | f(Xn) = 0.015189309131893758\n",
      "Iteration no. 5 | Xn-1 = 0.225 | Xn = 0.226 | f(Xn-1) = 0.015189309131893758 | f(Xn) = 0.01191102540253075\n",
      "Iteration no. 6 | Xn-1 = 0.226 | Xn = 0.227 | f(Xn-1) = 0.01191102540253075 | f(Xn) = 0.008646112287792329\n",
      "Iteration no. 7 | Xn-1 = 0.227 | Xn = 0.228 | f(Xn-1) = 0.008646112287792329 | f(Xn) = 0.005394608471806284\n",
      "Iteration no. 8 | Xn-1 = 0.228 | Xn = 0.229 | f(Xn-1) = 0.005394608471806284 | f(Xn) = 0.0021565524376990775\n",
      "Iteration no. 9 | Xn-1 = 0.229 | Xn = 0.23 | f(Xn-1) = 0.0021565524376990775 | f(Xn) = -0.001068017533031984\n",
      "There is a root in the interval [0.229,0.23]\n"
     ]
    },
    {
     "data": {
      "text/plain": [
       "[0.229, 0.23]"
      ]
     },
     "execution_count": 5,
     "metadata": {},
     "output_type": "execute_result"
    }
   ],
   "source": [
    "def function(x):\n",
    "    return (math.exp(-x)-math.sin(4*x))\n",
    "\n",
    "incemental_search(function, 0.22, 0.001, 30)"
   ]
  },
  {
   "cell_type": "code",
   "execution_count": null,
   "metadata": {},
   "outputs": [],
   "source": []
  }
 ],
 "metadata": {
  "kernelspec": {
   "display_name": "Python 3",
   "language": "python",
   "name": "python3"
  },
  "language_info": {
   "codemirror_mode": {
    "name": "ipython",
    "version": 3
   },
   "file_extension": ".py",
   "mimetype": "text/x-python",
   "name": "python",
   "nbconvert_exporter": "python",
   "pygments_lexer": "ipython3",
   "version": "3.8.5"
  }
 },
 "nbformat": 4,
 "nbformat_minor": 4
}
