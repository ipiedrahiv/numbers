{
 "cells": [
  {
   "cell_type": "markdown",
   "metadata": {},
   "source": [
    "# Bisection Method\n",
    "\n",
    "This method will find a very small interval in which there is a root of the funtion f, given that f fulfills the intermediate value theorem. The algorithm will find this reduced interval by succesively dividing a larger interval in which a root is known to exist, said interval might be found by using the iterative search method."
   ]
  },
  {
   "cell_type": "code",
   "execution_count": 4,
   "metadata": {},
   "outputs": [],
   "source": [
    "import math"
   ]
  },
  {
   "cell_type": "code",
   "execution_count": 65,
   "metadata": {},
   "outputs": [],
   "source": [
    "def bisection_method(f, a, b, tolerance):\n",
    "    max_iterations = math.ceil(math.log((b-a) * (1/tolerance)) / math.log(2))\n",
    "    c = (a+b)/2\n",
    "    \n",
    "    f_a = f(a)\n",
    "    f_b = f(b)\n",
    "    f_c = f(c)\n",
    "    \n",
    "    count = 0\n",
    "    #err = 0\n",
    "    \n",
    "    previous_c = c\n",
    "    \n",
    "    print(f'a{count} = {a} | c{count} = {c} | b{count} = {b} | f(c{count} = {f_c})')\n",
    "  \n",
    "    while (count < max_iterations):\n",
    "        if f_a * f_c < 0:\n",
    "            b = c\n",
    "            f_b = f(b)\n",
    "            \n",
    "        elif f_b * f_c < 0:\n",
    "            a = c\n",
    "            f_a = f(a)\n",
    "        \n",
    "        \n",
    "        c = (a+b)/2\n",
    "        #err = abs(previous_c - c)\n",
    "        f_c = f(c)\n",
    "        count += 1\n",
    "        \n",
    "        print(f'a{count} = {a} | c{count} = {c} | b{count} = {b} | f(c{count} = {f_c})')\n",
    "        \n",
    "        #previous_c = c\n",
    "        \n",
    "        \n",
    "        \n",
    "    print (f'There is a root in the interval [{a},{b}]')\n",
    "    return [a, b]"
   ]
  },
  {
   "cell_type": "markdown",
   "metadata": {},
   "source": [
    "# 2.1 El método se detiene en la iteración i =\n",
    "\n",
    "Usamos la cota de error para calcular n"
   ]
  },
  {
   "cell_type": "code",
   "execution_count": 66,
   "metadata": {},
   "outputs": [
    {
     "data": {
      "text/plain": [
       "25"
      ]
     },
     "execution_count": 66,
     "metadata": {},
     "output_type": "execute_result"
    }
   ],
   "source": [
    "math.ceil(math.log((2-0) * (1/math.pow(10,-7))) / math.log(2)) # Despejando n en la formula para el error máximo"
   ]
  },
  {
   "cell_type": "markdown",
   "metadata": {},
   "source": [
    "# 2.2 Con aproximación (escríbase con 4 decimales) xi\n",
    "\n",
    "Llamamos a la función de bisección para hallar el valor aproximado de la raiz"
   ]
  },
  {
   "cell_type": "code",
   "execution_count": 69,
   "metadata": {},
   "outputs": [],
   "source": [
    "# Describimos la funcion\n",
    "def function(x):\n",
    "    return (math.log((x*x) + x + 0.6) + 0.5 - x)"
   ]
  },
  {
   "cell_type": "code",
   "execution_count": 70,
   "metadata": {},
   "outputs": [
    {
     "name": "stdout",
     "output_type": "stream",
     "text": [
      "a0 = 0 | c0 = 1.0 | b0 = 2 | f(c0 = 0.45551144502743623)\n",
      "a1 = 0 | c1 = 0.5 | b1 = 1.0 | f(c1 = 0.30010459245033816)\n",
      "a2 = 0 | c2 = 0.25 | b2 = 0.5 | f(c2 = 0.15843280647450952)\n",
      "a3 = 0 | c3 = 0.125 | b3 = 0.25 | f(c3 = 0.07473914534135895)\n",
      "a4 = 0 | c4 = 0.0625 | b4 = 0.125 | f(c4 = 0.03164419057801626)\n",
      "a5 = 0 | c5 = 0.03125 | b5 = 0.0625 | f(c5 = 0.010242535892690863)\n",
      "a6 = 0 | c6 = 0.015625 | b6 = 0.03125 | f(c6 = -0.0003457720662509711)\n",
      "a7 = 0.015625 | c7 = 0.0234375 | b7 = 0.03125 | f(c7 = 0.004936461610014098)\n",
      "a8 = 0.015625 | c8 = 0.01953125 | b8 = 0.0234375 | f(c8 = 0.00229216451274461)\n",
      "a9 = 0.015625 | c9 = 0.017578125 | b9 = 0.01953125 | f(c9 = 0.0009723757529939148)\n",
      "a10 = 0.015625 | c10 = 0.0166015625 | b10 = 0.017578125 | f(c10 = 0.0003130935260494683)\n",
      "a11 = 0.015625 | c11 = 0.01611328125 | b11 = 0.0166015625 | f(c11 = -1.639175091089351e-05)\n",
      "a12 = 0.01611328125 | c12 = 0.016357421875 | b12 = 0.0166015625 | f(c12 = 0.00014833781761924847)\n",
      "a13 = 0.01611328125 | c13 = 0.0162353515625 | b13 = 0.016357421875 | f(c13 = 6.596975958933493e-05)\n",
      "a14 = 0.01611328125 | c14 = 0.01617431640625 | b14 = 0.0162353515625 | f(c14 = 2.478818511297831e-05)\n",
      "a15 = 0.01611328125 | c15 = 0.016143798828125 | b15 = 0.01617431640625 | f(c15 = 4.19801219631033e-06)\n",
      "a16 = 0.01611328125 | c16 = 0.0161285400390625 | b16 = 0.016143798828125 | f(c16 = -6.096920595721755e-06)\n",
      "a17 = 0.0161285400390625 | c17 = 0.01613616943359375 | b17 = 0.016143798828125 | f(c17 = -9.494670077936362e-07)\n",
      "a18 = 0.01613616943359375 | c18 = 0.016139984130859375 | b18 = 0.016143798828125 | f(c18 = 1.624269392430655e-06)\n",
      "a19 = 0.01613616943359375 | c19 = 0.016138076782226562 | b19 = 0.016139984130859375 | f(c19 = 3.3740039184770865e-07)\n",
      "a20 = 0.01613616943359375 | c20 = 0.016137123107910156 | b20 = 0.016138076782226562 | f(c20 = -3.06033508090664e-07)\n",
      "a21 = 0.016137123107910156 | c21 = 0.01613759994506836 | b21 = 0.016138076782226562 | f(c21 = 1.568339186297507e-08)\n",
      "a22 = 0.016137123107910156 | c22 = 0.016137361526489258 | b22 = 0.01613759994506836 | f(c22 = -1.4517507063160906e-07)\n",
      "a23 = 0.016137361526489258 | c23 = 0.01613748073577881 | b23 = 0.01613759994506836 | f(c23 = -6.474584252069704e-08)\n",
      "a24 = 0.01613748073577881 | c24 = 0.016137540340423584 | b24 = 0.01613759994506836 | f(c24 = -2.45312261060171e-08)\n",
      "a25 = 0.016137540340423584 | c25 = 0.01613757014274597 | b25 = 0.01613759994506836 | f(c25 = -4.42391734356562e-09)\n",
      "There is a root in the interval [0.016137540340423584,0.01613759994506836]\n"
     ]
    },
    {
     "data": {
      "text/plain": [
       "[0.016137540340423584, 0.01613759994506836]"
      ]
     },
     "execution_count": 70,
     "metadata": {},
     "output_type": "execute_result"
    }
   ],
   "source": [
    "# Llamamos a la función de bisección usando a la funcion definida como parametro\n",
    "bisection_method(function, 0, 2, math.pow(10,-7))"
   ]
  },
  {
   "cell_type": "code",
   "execution_count": null,
   "metadata": {},
   "outputs": [],
   "source": []
  }
 ],
 "metadata": {
  "kernelspec": {
   "display_name": "Python 3",
   "language": "python",
   "name": "python3"
  },
  "language_info": {
   "codemirror_mode": {
    "name": "ipython",
    "version": 3
   },
   "file_extension": ".py",
   "mimetype": "text/x-python",
   "name": "python",
   "nbconvert_exporter": "python",
   "pygments_lexer": "ipython3",
   "version": "3.8.5"
  }
 },
 "nbformat": 4,
 "nbformat_minor": 4
}
