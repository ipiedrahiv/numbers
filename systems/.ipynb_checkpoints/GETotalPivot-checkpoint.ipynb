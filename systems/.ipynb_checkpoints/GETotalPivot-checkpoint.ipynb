{
 "cells": [
  {
   "cell_type": "markdown",
   "metadata": {},
   "source": [
    "#### Gaussian Elimination with Total Pivoting\n",
    "\n",
    "For each row we "
   ]
  },
  {
   "cell_type": "code",
   "execution_count": 1,
   "metadata": {},
   "outputs": [],
   "source": [
    "import numpy as np"
   ]
  },
  {
   "cell_type": "code",
   "execution_count": 2,
   "metadata": {},
   "outputs": [],
   "source": [
    "def pivot_gauss(n, augmented_matrix):\n",
    "    # Applying Gauss Elimination\n",
    "    x = np.zeros(n)\n",
    "    swapping_list = []\n",
    "    \n",
    "    for i in range(n):\n",
    "        \n",
    "        largest = 0\n",
    "        row_of_largest = 0\n",
    "        column_of_largest = 0\n",
    "        for j in range (i, n):\n",
    "            for k in range (n):\n",
    "                if abs(largest) < abs(augmented_matrix[j][k]):\n",
    "                    largest = augmented_matrix[j][k]\n",
    "                    row_of_largest = j\n",
    "                    column_of_largest = k\n",
    "                    #print (f'largest = {largest}, column = {column_of_largest}, row = {row_of_largest}')\n",
    "                    \n",
    "        if(row_of_largest != i or column_of_largest != i):\n",
    "            augmented_matrix[[row_of_largest, i]] = augmented_matrix[[i, row_of_largest]]\n",
    "            swap = [column_of_largest, i]\n",
    "            swapping_list.append(swap)\n",
    "            augmented_matrix[:,[i, int(column_of_largest)]] = augmented_matrix[:,[int(column_of_largest),i]]\n",
    "        \n",
    "        for j in range(i,n): \n",
    "            if abs(augmented_matrix[j][i]) > abs(augmented_matrix[i][i]):  \n",
    "                augmented_matrix[[i,j]] = augmented_matrix[[j,i]]\n",
    "            else: \n",
    "                pass  \n",
    "        print(f'Pivot Etapa {i} \\n{augmented_matrix}')\n",
    "            \n",
    "        if augmented_matrix[i][i] == 0.0:\n",
    "            return None #Results in division by 0\n",
    "\n",
    "        for j in range(i+1, n):\n",
    "            ratio = augmented_matrix[j][i]/augmented_matrix[i][i]\n",
    "            \n",
    "            #print(augmented_matrix)\n",
    "            \n",
    "            for k in range(n+1):\n",
    "                augmented_matrix[j][k] = augmented_matrix[j][k] - ratio * augmented_matrix[i][k]\n",
    "                \n",
    "        print(f'Operate Etapa {i} \\n{augmented_matrix}')   \n",
    "                \n",
    "    # Back Substitution\n",
    "    x[n-1] = augmented_matrix[n-1][n]/augmented_matrix[n-1][n-1]\n",
    "\n",
    "    for i in range(n-2,-1,-1):\n",
    "        x[i] = augmented_matrix[i][n]\n",
    "\n",
    "        for j in range(i+1,n):\n",
    "            x[i] = x[i] - augmented_matrix[i][j]*x[j]\n",
    "\n",
    "        x[i] = x[i]/augmented_matrix[i][i]\n",
    "    \n",
    "    for i in reversed(range (len(swapping_list))):\n",
    "        x[swapping_list[i][0]], x[swapping_list[i][1]] = x[swapping_list[i][1]], x[swapping_list[i][0]]\n",
    "        print(x)\n",
    "        \n",
    "    # Displaying solution\n",
    "    print('\\nRequired solution is: ')\n",
    "    for i in range(n):\n",
    "        print('X%d = %f' %(i,x[i]), end = '\\t')"
   ]
  },
  {
   "cell_type": "code",
   "execution_count": 4,
   "metadata": {},
   "outputs": [
    {
     "name": "stdout",
     "output_type": "stream",
     "text": [
      "Pivot Etapa 0 \n",
      "[[ 14.  -1.   5.  -1.  13.]\n",
      " [ -3.   2.  -7.   4. -12.]\n",
      " [ -7.   9.   1.  13.  31.]\n",
      " [ -8.  13. -12.  -4. -32.]]\n",
      "Operate Etapa 0 \n",
      "[[ 14.          -1.           5.          -1.          13.        ]\n",
      " [  0.           1.78571429  -5.92857143   3.78571429  -9.21428571]\n",
      " [  0.           8.5          3.5         12.5         37.5       ]\n",
      " [  0.          12.42857143  -9.14285714  -4.57142857 -24.57142857]]\n",
      "Pivot Etapa 1 \n",
      "[[ 14.          -1.           5.          -1.          13.        ]\n",
      " [  0.          12.5          3.5          8.5         37.5       ]\n",
      " [  0.           3.78571429  -5.92857143   1.78571429  -9.21428571]\n",
      " [  0.          -4.57142857  -9.14285714  12.42857143 -24.57142857]]\n",
      "Operate Etapa 1 \n",
      "[[ 1.40000000e+01 -1.00000000e+00  5.00000000e+00 -1.00000000e+00\n",
      "   1.30000000e+01]\n",
      " [ 0.00000000e+00  1.25000000e+01  3.50000000e+00  8.50000000e+00\n",
      "   3.75000000e+01]\n",
      " [ 0.00000000e+00  4.44089210e-16 -6.98857143e+00 -7.88571429e-01\n",
      "  -2.05714286e+01]\n",
      " [ 0.00000000e+00  0.00000000e+00 -7.86285714e+00  1.55371429e+01\n",
      "  -1.08571429e+01]]\n",
      "Pivot Etapa 2 \n",
      "[[ 1.40000000e+01 -1.00000000e+00 -1.00000000e+00  5.00000000e+00\n",
      "   1.30000000e+01]\n",
      " [ 0.00000000e+00  1.25000000e+01  8.50000000e+00  3.50000000e+00\n",
      "   3.75000000e+01]\n",
      " [ 0.00000000e+00  0.00000000e+00  1.55371429e+01 -7.86285714e+00\n",
      "  -1.08571429e+01]\n",
      " [ 0.00000000e+00  4.44089210e-16 -7.88571429e-01 -6.98857143e+00\n",
      "  -2.05714286e+01]]\n",
      "Operate Etapa 2 \n",
      "[[ 1.40000000e+01 -1.00000000e+00 -1.00000000e+00  5.00000000e+00\n",
      "   1.30000000e+01]\n",
      " [ 0.00000000e+00  1.25000000e+01  8.50000000e+00  3.50000000e+00\n",
      "   3.75000000e+01]\n",
      " [ 0.00000000e+00  0.00000000e+00  1.55371429e+01 -7.86285714e+00\n",
      "  -1.08571429e+01]\n",
      " [ 0.00000000e+00  4.44089210e-16  0.00000000e+00 -7.38764252e+00\n",
      "  -2.11224715e+01]]\n",
      "Pivot Etapa 3 \n",
      "[[ 1.40000000e+01 -1.00000000e+00 -1.00000000e+00  5.00000000e+00\n",
      "   1.30000000e+01]\n",
      " [ 0.00000000e+00  1.25000000e+01  8.50000000e+00  3.50000000e+00\n",
      "   3.75000000e+01]\n",
      " [ 0.00000000e+00  0.00000000e+00  1.55371429e+01 -7.86285714e+00\n",
      "  -1.08571429e+01]\n",
      " [ 0.00000000e+00  4.44089210e-16  0.00000000e+00 -7.38764252e+00\n",
      "  -2.11224715e+01]]\n",
      "Operate Etapa 3 \n",
      "[[ 1.40000000e+01 -1.00000000e+00 -1.00000000e+00  5.00000000e+00\n",
      "   1.30000000e+01]\n",
      " [ 0.00000000e+00  1.25000000e+01  8.50000000e+00  3.50000000e+00\n",
      "   3.75000000e+01]\n",
      " [ 0.00000000e+00  0.00000000e+00  1.55371429e+01 -7.86285714e+00\n",
      "  -1.08571429e+01]\n",
      " [ 0.00000000e+00  4.44089210e-16  0.00000000e+00 -7.38764252e+00\n",
      "  -2.11224715e+01]]\n",
      "[0.08164484 1.69069547 2.85916264 0.74814557]\n",
      "[0.08164484 0.74814557 2.85916264 1.69069547]\n",
      "[2.85916264 0.74814557 0.08164484 1.69069547]\n",
      "\n",
      "Required solution is: \n",
      "X0 = 2.859163\tX1 = 0.748146\tX2 = 0.081645\tX3 = 1.690695\t"
     ]
    }
   ],
   "source": [
    "example = np.array([[-7, 2, -3, 4, -12], [5, -1, 14, -1, 13], [1, 9, -7, 13, 31], [-12, 13, -8, -4, -32]], float)\n",
    "\n",
    "pivot_gauss(4, example)"
   ]
  },
  {
   "cell_type": "code",
   "execution_count": 40,
   "metadata": {},
   "outputs": [
    {
     "name": "stdout",
     "output_type": "stream",
     "text": [
      "largest = -1111.0, column = 0, row = 0\n",
      "largest = 211111111.0, column = 1, row = 1\n"
     ]
    }
   ],
   "source": [
    "def find_largest(matrix, n):\n",
    "    largest = 0\n",
    "    row_of_largest = None\n",
    "    column_largest = None\n",
    "    for i in range (n):\n",
    "        for j in range (n):\n",
    "            if abs(largest) < abs(matrix[i][j]):\n",
    "                largest = matrix[i][j]\n",
    "                row_of_largest = i\n",
    "                column_of_largest = j\n",
    "                print (f'largest = {largest}, column = {column_of_largest}, row = {row_of_largest}')\n",
    "        \n",
    "example = np.array([[-1111, 0, 7], [3, 2, 1], [11, 6, 1]], float)\n",
    "find_largest(example, 3)"
   ]
  },
  {
   "cell_type": "code",
   "execution_count": 65,
   "metadata": {},
   "outputs": [
    {
     "name": "stdout",
     "output_type": "stream",
     "text": [
      "[[-1.11100000e+03  0.00000000e+00  7.00000000e+00]\n",
      " [ 3.00000000e+00  2.11111111e+08  1.00000000e+00]\n",
      " [ 1.10000000e+01  6.00000000e+00  1.11110000e+04]]\n",
      "largest = -1111.0, column = 0, row = 0\n",
      "largest = 211111111.0, column = 1, row = 1\n",
      "[[ 2.11111111e+08  3.00000000e+00  1.00000000e+00]\n",
      " [ 0.00000000e+00 -1.11100000e+03  7.00000000e+00]\n",
      " [ 6.00000000e+00  1.10000000e+01  1.11110000e+04]]\n"
     ]
    }
   ],
   "source": [
    "def find_largest_and_swap(matrix, n):\n",
    "    largest = 0\n",
    "    row_of_largest = 0\n",
    "    column_of_largest = 0\n",
    "    for i in range (n):\n",
    "        for j in range (n):\n",
    "            if abs(largest) < abs(matrix[i][j]):\n",
    "                largest = matrix[i][j]\n",
    "                row_of_largest = i\n",
    "                column_of_largest = j\n",
    "                print (f'largest = {largest}, column = {column_of_largest}, row = {row_of_largest}')\n",
    "    matrix[[row_of_largest, 0]] = matrix[[0, row_of_largest]]\n",
    "    matrix[:,[0, int(column_of_largest)]] = matrix[:,[int(column_of_largest),0]]\n",
    "    print(matrix)\n",
    "    \n",
    "example = np.array([[-1111, 0, 7, 3], [3, 211111111, 1, ], [11, 6, 111, 11]], float).reshape(3, 3) \n",
    "print(example)\n",
    "find_largest_and_swap(example, 3)"
   ]
  },
  {
   "cell_type": "code",
   "execution_count": 158,
   "metadata": {},
   "outputs": [
    {
     "name": "stdout",
     "output_type": "stream",
     "text": [
      "[[1. 0. 0. 0. 0.]\n",
      " [0. 2. 0. 0. 0.]\n",
      " [0. 0. 3. 0. 0.]\n",
      " [0. 0. 0. 4. 0.]]\n",
      "largest = 1.0, column = 0, row = 0\n",
      "largest = 2.0, column = 1, row = 1\n",
      "largest = 3.0, column = 2, row = 2\n",
      "largest = 4.0, column = 3, row = 3\n",
      "largest = 2.0, column = 1, row = 1\n",
      "largest = 3.0, column = 2, row = 2\n",
      "largest = 2.0, column = 2, row = 2\n",
      "largest = 1.0, column = 3, row = 3\n",
      "[[4. 0. 0. 0. 0.]\n",
      " [0. 3. 0. 0. 0.]\n",
      " [0. 0. 2. 0. 0.]\n",
      " [0. 0. 0. 1. 0.]]\n",
      "[[3, 0], [2, 1]]\n"
     ]
    }
   ],
   "source": [
    "def find_largest_and_swap_many_times(matrix, n):\n",
    "    swapping_list = []\n",
    "    \n",
    "    for k in range (n):\n",
    "        largest = 0\n",
    "        row_of_largest = 0\n",
    "        column_of_largest = 0\n",
    "        for i in range (k, n):\n",
    "            for j in range (n):\n",
    "                if abs(largest) < abs(matrix[i][j]):\n",
    "                    largest = matrix[i][j]\n",
    "                    row_of_largest = i\n",
    "                    column_of_largest = j\n",
    "                    print (f'largest = {largest}, column = {column_of_largest}, row = {row_of_largest}')\n",
    "        if(row_of_largest != k or column_of_largest != k):\n",
    "            matrix[[row_of_largest, k]] = matrix[[k, row_of_largest]]\n",
    "            swap = [column_of_largest, k]\n",
    "            swapping_list.append(swap)\n",
    "            matrix[:,[k, int(column_of_largest)]] = matrix[:,[int(column_of_largest),k]]\n",
    "        \n",
    "    print(matrix)\n",
    "    print(swapping_list)\n",
    "    \n",
    "example = np.array([[1, 0, 0, 0,0], [0, 2, 0, 0,0], [0, 0, 3, 0,0], [0, 0, 0, 4,0]], float)\n",
    "print(example)\n",
    "find_largest_and_swap_many_times(example, 4)"
   ]
  },
  {
   "cell_type": "code",
   "execution_count": 136,
   "metadata": {},
   "outputs": [
    {
     "name": "stdout",
     "output_type": "stream",
     "text": [
      "on\n"
     ]
    }
   ],
   "source": [
    "thislist = [[\"apple\", \"hi\"], [\"banana\", \"on\"], [\"cherry\", \"tr\"]]\n",
    "print(thislist[1][1])"
   ]
  },
  {
   "cell_type": "code",
   "execution_count": null,
   "metadata": {},
   "outputs": [],
   "source": []
  }
 ],
 "metadata": {
  "kernelspec": {
   "display_name": "Python 3",
   "language": "python",
   "name": "python3"
  },
  "language_info": {
   "codemirror_mode": {
    "name": "ipython",
    "version": 3
   },
   "file_extension": ".py",
   "mimetype": "text/x-python",
   "name": "python",
   "nbconvert_exporter": "python",
   "pygments_lexer": "ipython3",
   "version": "3.8.5"
  }
 },
 "nbformat": 4,
 "nbformat_minor": 4
}
