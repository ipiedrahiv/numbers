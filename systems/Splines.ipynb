{
 "cells": [
  {
   "cell_type": "markdown",
   "metadata": {},
   "source": [
    "# Lineal Splines\n",
    "\n",
    "Must be continuous. Must be a linear polinomial based interpolation.\n",
    "\n",
    "This has a single solution.\n",
    "\n",
    "# Quadratic Spline\n",
    "\n",
    "Uses fragments of parabolae in order to aproximate.\n",
    "\n",
    "This has multiple solutions."
   ]
  },
  {
   "cell_type": "code",
   "execution_count": 1,
   "metadata": {},
   "outputs": [],
   "source": [
    "import numpy as np"
   ]
  },
  {
   "cell_type": "code",
   "execution_count": 2,
   "metadata": {},
   "outputs": [],
   "source": [
    "def pivot_gauss(n, augmented_matrix):\n",
    "    # Applying Gauss Elimination\n",
    "    x = np.zeros(n)\n",
    "    swapping_list = []\n",
    "    \n",
    "    for i in range(n):\n",
    "        \n",
    "        largest = 0\n",
    "        row_of_largest = 0\n",
    "        column_of_largest = 0\n",
    "        for j in range (i, n):\n",
    "            for k in range (n):\n",
    "                if abs(largest) < abs(augmented_matrix[j][k]):\n",
    "                    largest = augmented_matrix[j][k]\n",
    "                    row_of_largest = j\n",
    "                    column_of_largest = k\n",
    "                    #print (f'largest = {largest}, column = {column_of_largest}, row = {row_of_largest}')\n",
    "                    \n",
    "        if(row_of_largest != i or column_of_largest != i):\n",
    "            augmented_matrix[[row_of_largest, i]] = augmented_matrix[[i, row_of_largest]]\n",
    "            swap = [column_of_largest, i]\n",
    "            swapping_list.append(swap)\n",
    "            augmented_matrix[:,[i, int(column_of_largest)]] = augmented_matrix[:,[int(column_of_largest),i]]\n",
    "        \n",
    "        for j in range(i,n): \n",
    "            if abs(augmented_matrix[j][i]) > abs(augmented_matrix[i][i]):  \n",
    "                augmented_matrix[[i,j]] = augmented_matrix[[j,i]]\n",
    "            else: \n",
    "                pass  \n",
    "        print(f'Pivot Etapa {i} \\n{augmented_matrix}')\n",
    "            \n",
    "        if augmented_matrix[i][i] == 0.0:\n",
    "            return None #Results in division by 0\n",
    "\n",
    "        for j in range(i+1, n):\n",
    "            ratio = augmented_matrix[j][i]/augmented_matrix[i][i]\n",
    "            \n",
    "            #print(augmented_matrix)\n",
    "            \n",
    "            for k in range(n+1):\n",
    "                augmented_matrix[j][k] = augmented_matrix[j][k] - ratio * augmented_matrix[i][k]\n",
    "                \n",
    "        print(f'Operate Etapa {i} \\n{augmented_matrix}')   \n",
    "                \n",
    "    # Back Substitution\n",
    "    x[n-1] = augmented_matrix[n-1][n]/augmented_matrix[n-1][n-1]\n",
    "\n",
    "    for i in range(n-2,-1,-1):\n",
    "        x[i] = augmented_matrix[i][n]\n",
    "\n",
    "        for j in range(i+1,n):\n",
    "            x[i] = x[i] - augmented_matrix[i][j]*x[j]\n",
    "\n",
    "        x[i] = x[i]/augmented_matrix[i][i]\n",
    "    \n",
    "    for i in reversed(range (len(swapping_list))):\n",
    "        x[swapping_list[i][0]], x[swapping_list[i][1]] = x[swapping_list[i][1]], x[swapping_list[i][0]]\n",
    "        print(x)\n",
    "        \n",
    "    # Displaying solution\n",
    "    print('\\nRequired solution is: ')\n",
    "    for i in range(n):\n",
    "        print('X%d = %f' %(i,x[i]), end = '\\t')"
   ]
  },
  {
   "cell_type": "code",
   "execution_count": 6,
   "metadata": {},
   "outputs": [
    {
     "name": "stdout",
     "output_type": "stream",
     "text": [
      "Pivot Etapa 0 \n",
      "[[ 24.  -5. -17.   2.]\n",
      " [-12.   4.   9.   1.]\n",
      " [ -4.   0.   5.   0.]]\n",
      "Operate Etapa 0 \n",
      "[[ 24.          -5.         -17.           2.        ]\n",
      " [  0.           1.5          0.5          2.        ]\n",
      " [  0.          -0.83333333   2.16666667   0.33333333]]\n",
      "Pivot Etapa 1 \n",
      "[[ 24.         -17.          -5.           2.        ]\n",
      " [  0.           2.16666667  -0.83333333   0.33333333]\n",
      " [  0.           0.5          1.5          2.        ]]\n",
      "Operate Etapa 1 \n",
      "[[ 24.         -17.          -5.           2.        ]\n",
      " [  0.           2.16666667  -0.83333333   0.33333333]\n",
      " [  0.           0.           1.69230769   1.92307692]]\n",
      "Pivot Etapa 2 \n",
      "[[ 24.         -17.          -5.           2.        ]\n",
      " [  0.           2.16666667  -0.83333333   0.33333333]\n",
      " [  0.           0.           1.69230769   1.92307692]]\n",
      "Operate Etapa 2 \n",
      "[[ 24.         -17.          -5.           2.        ]\n",
      " [  0.           2.16666667  -0.83333333   0.33333333]\n",
      " [  0.           0.           1.69230769   1.92307692]]\n",
      "[0.73863636 1.13636364 0.59090909]\n",
      "[1.13636364 0.73863636 0.59090909]\n",
      "\n",
      "Required solution is: \n",
      "X0 = 1.136364\tX1 = 0.738636\tX2 = 0.590909\t"
     ]
    }
   ],
   "source": [
    "A = np.array([[0, -4, 5, 0], [4, -12, 9, 1], [-5, 24, -17, 2]], float)\n",
    "pivot_gauss(3, A)"
   ]
  },
  {
   "cell_type": "code",
   "execution_count": 8,
   "metadata": {},
   "outputs": [
    {
     "name": "stdout",
     "output_type": "stream",
     "text": [
      "Pivot Etapa 0 \n",
      "[[13.533  8.4   -1.667  7.8    1.   ]\n",
      " [ 5.113  0.     1.133  5.     0.   ]\n",
      " [12.867 -4.8    0.533 -9.8    2.   ]\n",
      " [ 1.     1.     1.     1.     1.   ]]\n",
      "Operate Etapa 0 \n",
      "[[ 13.533        8.4         -1.667        7.8          1.        ]\n",
      " [  0.          -3.17366438   1.76282125   2.05302594  -0.37781719]\n",
      " [  0.         -12.78661051   2.11796187 -17.21613833   1.04921303]\n",
      " [  0.           0.37929506   1.12318037   0.42363112   0.92610655]]\n",
      "Pivot Etapa 1 \n",
      "[[ 13.533        7.8         -1.667        8.4          1.        ]\n",
      " [  0.         -17.21613833   2.11796187 -12.78661051   1.04921303]\n",
      " [  0.           2.05302594   1.76282125  -3.17366438  -0.37781719]\n",
      " [  0.           0.42363112   1.12318037   0.37929506   0.92610655]]\n",
      "Operate Etapa 1 \n",
      "[[ 13.533        7.8         -1.667        8.4          1.        ]\n",
      " [  0.         -17.21613833   2.11796187 -12.78661051   1.04921303]\n",
      " [  0.           0.           2.01538838  -4.69846875  -0.25269845]\n",
      " [  0.           0.           1.17529628   0.06465968   0.95192415]]\n",
      "Pivot Etapa 2 \n",
      "[[ 13.533        7.8          8.4         -1.667        1.        ]\n",
      " [  0.         -17.21613833 -12.78661051   2.11796187   1.04921303]\n",
      " [  0.           0.          -4.69846875   2.01538838  -0.25269845]\n",
      " [  0.           0.           0.06465968   1.17529628   0.95192415]]\n",
      "Operate Etapa 2 \n",
      "[[ 13.533        7.8          8.4         -1.667        1.        ]\n",
      " [  0.         -17.21613833 -12.78661051   2.11796187   1.04921303]\n",
      " [  0.           0.          -4.69846875   2.01538838  -0.25269845]\n",
      " [  0.           0.           0.           1.20303177   0.94844655]]\n",
      "Pivot Etapa 3 \n",
      "[[ 13.533        7.8          8.4         -1.667        1.        ]\n",
      " [  0.         -17.21613833 -12.78661051   2.11796187   1.04921303]\n",
      " [  0.           0.          -4.69846875   2.01538838  -0.25269845]\n",
      " [  0.           0.           0.           1.20303177   0.94844655]]\n",
      "Operate Etapa 3 \n",
      "[[ 13.533        7.8          8.4         -1.667        1.        ]\n",
      " [  0.         -17.21613833 -12.78661051   2.11796187   1.04921303]\n",
      " [  0.           0.          -4.69846875   2.01538838  -0.25269845]\n",
      " [  0.           0.           0.           1.20303177   0.94844655]]\n",
      "[ 0.07472928 -0.25506514  0.7883803   0.39195556]\n",
      "[ 0.07472928  0.39195556  0.7883803  -0.25506514]\n",
      "[ 0.7883803   0.39195556  0.07472928 -0.25506514]\n",
      "\n",
      "Required solution is: \n",
      "X0 = 0.788380\tX1 = 0.391956\tX2 = 0.074729\tX3 = -0.255065\t"
     ]
    }
   ],
   "source": [
    "A = np.array([[1.133, 0, 5.113, 5, 0], [-1.667, 8.4, 13.533, 7.8, 1], [0.533, -4.8, 12.867, -9.8, 2],[1,1,1,1,1]], float)\n",
    "pivot_gauss(4, A)"
   ]
  },
  {
   "cell_type": "code",
   "execution_count": null,
   "metadata": {},
   "outputs": [],
   "source": []
  }
 ],
 "metadata": {
  "kernelspec": {
   "display_name": "Python 3",
   "language": "python",
   "name": "python3"
  },
  "language_info": {
   "codemirror_mode": {
    "name": "ipython",
    "version": 3
   },
   "file_extension": ".py",
   "mimetype": "text/x-python",
   "name": "python",
   "nbconvert_exporter": "python",
   "pygments_lexer": "ipython3",
   "version": "3.8.5"
  }
 },
 "nbformat": 4,
 "nbformat_minor": 4
}
