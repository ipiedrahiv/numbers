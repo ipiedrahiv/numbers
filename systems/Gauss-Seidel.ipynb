{
 "cells": [
  {
   "cell_type": "code",
   "execution_count": 6,
   "metadata": {},
   "outputs": [],
   "source": [
    "import numpy as np\n",
    "import pandas as pd"
   ]
  },
  {
   "cell_type": "code",
   "execution_count": 13,
   "metadata": {},
   "outputs": [],
   "source": [
    "def gauss_seidel(A, b, initial, tolerance, max_iterations):\n",
    "\n",
    "    D = np.diag(np.diag(A))\n",
    "    L = -np.tril(A)+D\n",
    "    U = -np.triu(A)+D\n",
    "    T = np.dot(np.linalg.inv(D-L),U)\n",
    "    C = np.dot(np.linalg.inv(D-L),b)\n",
    "    \n",
    "    spectral_radius = max(abs(np.linalg.eigvals(T)));\n",
    "    err = 1\n",
    "    n = 0\n",
    "    previous_x = initial\n",
    "    \n",
    "    if spectral_radius > 1:\n",
    "        print(\"No converge\")\n",
    "        return None\n",
    "    \n",
    "    pd.set_option(\"display.precision\", 12)\n",
    "    data = {'n': [n],\n",
    "            'x0': [C[0]],\n",
    "            'x1': [C[1]],\n",
    "            'x2': [C[2]],\n",
    "            'E': [None],}\n",
    "    output = pd.DataFrame(data)\n",
    "    \n",
    "    while n < max_iterations:\n",
    "        current_x = np.dot(T, previous_x)+C\n",
    "        err = np.linalg.norm(previous_x - current_x)\n",
    "        previous_x = current_x\n",
    "        n = n + 1\n",
    "        \n",
    "        vect = np.diag(np.diag(current_x))\n",
    "        new_line = {'n': n,\n",
    "            'x0': vect[0],\n",
    "            'x1': vect[1],\n",
    "            'x2': vect[2],\n",
    "            'E': err}\n",
    "        output = output.append(new_line, ignore_index=True)\n",
    "    \n",
    "        if err <= tolerance:\n",
    "            break\n",
    "            \n",
    "    print(output)"
   ]
  },
  {
   "cell_type": "code",
   "execution_count": 16,
   "metadata": {},
   "outputs": [
    {
     "name": "stdout",
     "output_type": "stream",
     "text": [
      "     n              x0              x1              x2               E\n",
      "0  0.0  0.111111111111  0.444444444444  0.055555555556             NaN\n",
      "1  1.0  0.111111111111  0.444444444444  0.055555555556  0.461479103495\n",
      "2  2.0  0.049382716049  0.447530864198  0.075617283951  0.064979948369\n",
      "3  3.0  0.044581618656  0.439900548697  0.078489368999  0.009461560302\n",
      "4  4.0  0.044791190367  0.438359720317  0.078676316491  0.001566212554\n",
      "5  5.0  0.044920849633  0.438201416938  0.078659480633  0.000205316661\n",
      "6  6.0  0.044942180200  0.438199169584  0.078652745003  0.000022481378\n",
      "7  7.0  0.044943926712  0.438201664142  0.078651747072  0.000003204527\n",
      "8  8.0  0.044943871301  0.438202190813  0.078651677764  0.000000534094\n",
      "9  9.0  0.044943828184  0.438202247026  0.078651682768  0.000000071021\n"
     ]
    }
   ],
   "source": [
    "A = np.array([[9, 1, 2], [1, 2, 1], [2, 1, 6]], float)\n",
    "b = np.array([1, 1, 1], float)\n",
    "initial = np.array([0, 0, 0], float)\n",
    "gauss_seidel(A, b, initial, 0.0000001, 100)"
   ]
  },
  {
   "cell_type": "code",
   "execution_count": null,
   "metadata": {},
   "outputs": [],
   "source": []
  }
 ],
 "metadata": {
  "kernelspec": {
   "display_name": "Python 3",
   "language": "python",
   "name": "python3"
  },
  "language_info": {
   "codemirror_mode": {
    "name": "ipython",
    "version": 3
   },
   "file_extension": ".py",
   "mimetype": "text/x-python",
   "name": "python",
   "nbconvert_exporter": "python",
   "pygments_lexer": "ipython3",
   "version": "3.8.5"
  }
 },
 "nbformat": 4,
 "nbformat_minor": 4
}
