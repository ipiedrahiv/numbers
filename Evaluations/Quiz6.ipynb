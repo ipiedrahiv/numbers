{
 "cells": [
  {
   "cell_type": "markdown",
   "metadata": {},
   "source": [
    "# Quiz 6\n",
    "\n",
    "Isabel Piedrahita"
   ]
  },
  {
   "cell_type": "code",
   "execution_count": 2,
   "metadata": {},
   "outputs": [],
   "source": [
    "import numpy as np\n",
    "import pandas as pd"
   ]
  },
  {
   "cell_type": "code",
   "execution_count": 13,
   "metadata": {},
   "outputs": [],
   "source": [
    "def SOR(A, b, w, initial, tolerance, max_iterations):\n",
    "    \n",
    "    D = np.diag(np.diag(A))\n",
    "    L = -np.tril(A)+D\n",
    "    U = -np.triu(A)+D\n",
    "    T = np.dot(np.linalg.inv(D-(w*L)), ((1-w) * D + w * U))\n",
    "    C = (w * np.dot(np.linalg.inv(D-np.dot(w, L)), b))\n",
    "    \n",
    "    spectral_radius = max(abs(np.linalg.eigvals(T)));\n",
    "    err = 1000\n",
    "    n = 0\n",
    "    previous_x = initial\n",
    "\n",
    "    pd.set_option(\"display.precision\", 12)\n",
    "    data = {'n': [n],\n",
    "            'x0': [C[0]],\n",
    "            'x1': [C[1]],\n",
    "            'x2': [C[2]],\n",
    "            'E': [None],}\n",
    "    output = pd.DataFrame(data)\n",
    "    \n",
    "    while n < max_iterations:\n",
    "        current_x = np.dot(T, previous_x)+C\n",
    "        err = np.linalg.norm(previous_x - current_x)\n",
    "        previous_x = current_x\n",
    "        n = n + 1\n",
    "        \n",
    "        vect = np.diag(np.diag(current_x))\n",
    "        new_line = {'n': n,\n",
    "            'x0': vect[0],\n",
    "            'x1': vect[1],\n",
    "            'x2': vect[2],\n",
    "            'E': err}\n",
    "        output = output.append(new_line, ignore_index=True)\n",
    "    \n",
    "        if err <= tolerance:\n",
    "            break\n",
    "            \n",
    "    print(output)"
   ]
  },
  {
   "cell_type": "code",
   "execution_count": 4,
   "metadata": {},
   "outputs": [],
   "source": [
    "def jacobi(A, b, initial, tolerance, max_iterations):\n",
    "\n",
    "    D = np.diag(np.diag(A))\n",
    "    L = -np.tril(A)+D\n",
    "    U = -np.triu(A)+D\n",
    "    T = np.dot(np.linalg.inv(D),(L+U))\n",
    "    C = np.dot(np.linalg.inv(D),b)\n",
    "    \n",
    "    spectral_radius = max(abs(np.linalg.eigvals(T)));\n",
    "    err = 1\n",
    "    n = 0\n",
    "    previous_x = initial\n",
    "    \n",
    "    if spectral_radius > 1:\n",
    "        print(\"No converge\")\n",
    "        return None\n",
    "    \n",
    "    pd.set_option(\"display.precision\", 12)\n",
    "    data = {'n': [n],\n",
    "            'x0': [C[0]],\n",
    "            'x1': [C[1]],\n",
    "            'x2': [C[2]],\n",
    "            'E': [None],}\n",
    "    output = pd.DataFrame(data)\n",
    "    \n",
    "    while n < max_iterations:\n",
    "        current_x = np.dot(T, previous_x)+C\n",
    "        err = np.linalg.norm(previous_x - current_x)\n",
    "        previous_x = current_x\n",
    "        n = n + 1\n",
    "        \n",
    "        vect = np.diag(np.diag(current_x))\n",
    "        new_line = {'n': n,\n",
    "            'x0': vect[0],\n",
    "            'x1': vect[1],\n",
    "            'x2': vect[2],\n",
    "            'E': err}\n",
    "        output = output.append(new_line, ignore_index=True)\n",
    "    \n",
    "        if err <= tolerance:\n",
    "            break\n",
    "            \n",
    "    print(output)"
   ]
  },
  {
   "cell_type": "code",
   "execution_count": 11,
   "metadata": {},
   "outputs": [],
   "source": [
    "# declaramos la matriz A, el vector b y el vector inicial initial\n",
    "\n",
    "A = np.array([[5, 3, 2], [1, 3, 0], [2, 0, 7]], float)\n",
    "b = np.array([1, 1, 1], float)\n",
    "initial = np.array([0, 0, 0], float)"
   ]
  },
  {
   "cell_type": "code",
   "execution_count": 7,
   "metadata": {},
   "outputs": [
    {
     "data": {
      "text/plain": [
       "True"
      ]
     },
     "execution_count": 7,
     "metadata": {},
     "output_type": "execute_result"
    }
   ],
   "source": [
    "# Test para verificar que sea definida positiva\n",
    "\n",
    "def is_pos_def(x):\n",
    "    return np.all(np.linalg.eigvals(x) > 0)\n",
    "\n",
    "is_pos_def(A)"
   ]
  },
  {
   "cell_type": "code",
   "execution_count": 9,
   "metadata": {},
   "outputs": [
    {
     "data": {
      "text/plain": [
       "False"
      ]
     },
     "execution_count": 9,
     "metadata": {},
     "output_type": "execute_result"
    }
   ],
   "source": [
    "# Test para verificar que sea estrictamente diagonal dominante\n",
    "\n",
    "def is_diag_dominant(X):\n",
    "    D = np.diag(np.abs(X)) # Find diagonal coefficients\n",
    "    S = np.sum(np.abs(X), axis=1) - D # Find row sum without diagonal\n",
    "    if np.all(D > S):\n",
    "        return True\n",
    "    else:\n",
    "        return False\n",
    "\n",
    "is_diag_dominant(A)"
   ]
  },
  {
   "cell_type": "code",
   "execution_count": 12,
   "metadata": {},
   "outputs": [
    {
     "name": "stdout",
     "output_type": "stream",
     "text": [
      "       n              x0              x1              x2               E\n",
      "0    0.0  0.200000000000  0.333333333333  0.142857142857             NaN\n",
      "1    1.0  0.200000000000  0.333333333333  0.142857142857  0.414148855336\n",
      "2    2.0 -0.057142857143  0.266666666667  0.085714285714  0.271720811765\n",
      "3    3.0  0.005714285714  0.352380952381  0.159183673469  0.129211880726\n",
      "4    4.0 -0.075102040816  0.331428571429  0.141224489796  0.085397969412\n",
      "5    5.0 -0.055346938776  0.358367346939  0.164314868805  0.040609448228\n",
      "6    6.0 -0.080746355685  0.351782312925  0.158670553936  0.026839361815\n",
      "7    7.0 -0.074537609329  0.360248785228  0.165927530196  0.012762969443\n",
      "8    8.0 -0.082520283215  0.358179203110  0.164153602666  0.008435227999\n",
      "9    9.0 -0.080568962932  0.360840094405  0.166434366633  0.004011218968\n",
      "10  10.0 -0.083077803296  0.360189654311  0.165876846552  0.002651071657\n",
      "11  11.0 -0.082464531207  0.361025934432  0.166593658085  0.001260668818\n",
      "12  12.0 -0.083253023893  0.360821510402  0.166418437488  0.000833193949\n",
      "13  13.0 -0.083060281237  0.361084341298  0.166643721112  0.000396210200\n",
      "14  14.0 -0.083308093224  0.361020093746  0.166588651782  0.000261860955\n",
      "15  15.0 -0.083247516960  0.361102697741  0.166659455207  0.000124523206\n",
      "16  16.0 -0.083325400727  0.361082505653  0.166642147703  0.000082299157\n",
      "17  17.0 -0.083306362473  0.361108466909  0.166664400208  0.000039135865\n",
      "18  18.0 -0.083330840229  0.361102120824  0.166658960707  0.000025865449\n",
      "19  19.0 -0.083324856777  0.361110280076  0.166665954351  0.000012299843\n",
      "20  20.0 -0.083332549786  0.361108285592  0.166664244794  0.000008129141\n",
      "21  21.0 -0.083330669273  0.361110849929  0.166666442796  0.000003865665\n",
      "22  22.0 -0.083333087076  0.361110223091  0.166665905507  0.000002554873\n",
      "23  23.0 -0.083332496057  0.361111029025  0.166666596307  0.000001214923\n",
      "24  24.0 -0.083333255938  0.361110832019  0.166666427445  0.000000802960\n",
      "25  25.0 -0.083333070189  0.361111085313  0.166666644554  0.000000381833\n",
      "26  26.0 -0.083333309009  0.361111023396  0.166666591483  0.000000252359\n",
      "27  27.0 -0.083333250631  0.361111103003  0.166666659717  0.000000120005\n",
      "28  28.0 -0.083333325689  0.361111083544  0.166666643037  0.000000079313\n"
     ]
    }
   ],
   "source": [
    "# Corremos Jacobi\n",
    "\n",
    "jacobi(A, b, initial, 0.0000001, 100)"
   ]
  },
  {
   "cell_type": "code",
   "execution_count": 14,
   "metadata": {},
   "outputs": [
    {
     "name": "stdout",
     "output_type": "stream",
     "text": [
      "       n              x0              x1              x2               E\n",
      "0    0.0  0.240000000000  0.304000000000  0.089142857143             NaN\n",
      "1    1.0  0.240000000000  0.304000000000  0.089142857143  0.397444900558\n",
      "2    2.0 -0.069668571429  0.367067428571  0.177486367347  0.328141281268\n",
      "3    3.0 -0.095548290612  0.364805830531  0.168690711883  0.027426962022\n",
      "4    4.0 -0.084522081564  0.360847666519  0.166669428445  0.011888226742\n",
      "5    5.0 -0.082907229235  0.360993358390  0.166520021477  0.001628280261\n",
      "6    6.0 -0.083263382503  0.361106681323  0.166672012563  0.000403470603\n",
      "7    7.0 -0.083346700082  0.361117343768  0.166670180373  0.000084017044\n",
      "8    8.0 -0.083336834076  0.361111264877  0.166667164180  0.000011974491\n",
      "9    9.0 -0.083332982702  0.361110940106  0.166666446948  0.000003931027\n",
      "10  10.0 -0.083333174870  0.361111081927  0.166666656280  0.000000317588\n",
      "11  11.0 -0.083333339028  0.361111119226  0.166666670696  0.000000168958\n",
      "12  12.0 -0.083333339971  0.361111112143  0.166666668137  0.000000007590\n"
     ]
    }
   ],
   "source": [
    "# Corremos SOR\n",
    "\n",
    "SOR(A, b, 1.2, initial, 0.0000001, 100)"
   ]
  },
  {
   "cell_type": "code",
   "execution_count": null,
   "metadata": {},
   "outputs": [],
   "source": []
  }
 ],
 "metadata": {
  "kernelspec": {
   "display_name": "Python 3",
   "language": "python",
   "name": "python3"
  },
  "language_info": {
   "codemirror_mode": {
    "name": "ipython",
    "version": 3
   },
   "file_extension": ".py",
   "mimetype": "text/x-python",
   "name": "python",
   "nbconvert_exporter": "python",
   "pygments_lexer": "ipython3",
   "version": "3.8.5"
  }
 },
 "nbformat": 4,
 "nbformat_minor": 4
}
