{
 "cells": [
  {
   "cell_type": "markdown",
   "metadata": {},
   "source": [
    "# The Newton-Raphson Method\n",
    "\n",
    "## The Newton-Raphson Theorem\n",
    "\n",
    "Let $f \\in C^{2}[a, b]$ and $x_{v} \\in [a, b]$ such that $f(x_{v}) \\land f'(x_{v}) \\ne 0$ then there is $d > 0$ such that the Newton method generates a sucession ${x_{n}}^{\\infty}_{n = 0}$, given by $x_{n + 1} = x - \\frac{f(x_{n})}{f'(x_{n})}$, converges to $x_v$ for any initial aproximation $x_{0} \\in [x_{v} - d, x_{v} = d]$\n",
    "\n",
    "## The Newton Method\n",
    "\n",
    "Input: ($f(x)$, $f'(x)$, $x_{0}$, $tolerance$, $max\\ iterations$)\n",
    "\n",
    "Output: ($n$, $x_n$, $f(x_n)$, $f'(x_n)$, $E$)\n"
   ]
  },
  {
   "cell_type": "code",
   "execution_count": 6,
   "metadata": {},
   "outputs": [],
   "source": [
    "import math\n",
    "import pandas as pd"
   ]
  },
  {
   "cell_type": "code",
   "execution_count": 7,
   "metadata": {},
   "outputs": [],
   "source": [
    "def newton(f, f_derivate, x0, tolerance, max_iterations):\n",
    "    n = 0\n",
    "    \n",
    "    pd.set_option(\"display.precision\", 8)\n",
    "    data = {'n': [n],\n",
    "            'Xn': [x0],\n",
    "            'f(x)': [f(x0)],\n",
    "            'f\\'(x)': [f_derivate(x0)],\n",
    "            'E': [None]}\n",
    "    output = pd.DataFrame(data)\n",
    "    \n",
    "    while n < max_iterations:\n",
    "        if f_derivate(x0) == 0:\n",
    "            return None\n",
    "        \n",
    "        x1 = x0 - (f(x0) / f_derivate(x0))\n",
    "        err = abs(x1 - x0)\n",
    "        x0 = x1\n",
    "        \n",
    "        new_line = {'n':n,\n",
    "                    'Xn': x1,\n",
    "                    'f(x)':f(x1),\n",
    "                    'f\\'(x)': f_derivate(x1),\n",
    "                    'E':err}\n",
    "        output = output.append(new_line, ignore_index=True)\n",
    "        \n",
    "        if err <= tolerance:\n",
    "            break\n",
    "            \n",
    "        n += 1\n",
    "        \n",
    "    print (output)\n",
    "        \n",
    "        "
   ]
  },
  {
   "cell_type": "code",
   "execution_count": 8,
   "metadata": {},
   "outputs": [],
   "source": [
    "def function(x):\n",
    "    return math.exp(-1*x)-math.sin(4*x)"
   ]
  },
  {
   "cell_type": "code",
   "execution_count": 9,
   "metadata": {},
   "outputs": [],
   "source": [
    "def derivate(x):\n",
    "    return (-4*math.cos(4*x)-math.exp(-1*x))"
   ]
  },
  {
   "cell_type": "code",
   "execution_count": 10,
   "metadata": {},
   "outputs": [
    {
     "name": "stdout",
     "output_type": "stream",
     "text": [
      "     n          Xn            f(x)       f'(x)               E\n",
      "0  0.0  0.20000000  1.01374662e-01 -3.60555759             NaN\n",
      "1  0.0  0.22811622  5.01757967e-03 -3.24322312  2.81162233e-02\n",
      "2  1.0  0.22966332  1.61226702e-05 -3.22236539  1.54709667e-03\n",
      "3  2.0  0.22966832  1.69120051e-10 -3.22229779  5.00336499e-06\n",
      "4  3.0  0.22966832  1.11022302e-16 -3.22229779  5.24842947e-11\n"
     ]
    }
   ],
   "source": [
    "newton(function, derivate, 0.2, 0.0000001, 100)"
   ]
  },
  {
   "cell_type": "code",
   "execution_count": 11,
   "metadata": {},
   "outputs": [],
   "source": [
    "def function_1(x):\n",
    "    return math.exp(-x) - (x*x)*math.cos(2*x-4) + 6*x + 3"
   ]
  },
  {
   "cell_type": "code",
   "execution_count": 12,
   "metadata": {},
   "outputs": [],
   "source": [
    "def derivate_1(x):\n",
    "    return -math.exp(-x) - 2*x*math.cos(2*x-4) + 2*(x*x)*math.sin(2*x-4) + 6"
   ]
  },
  {
   "cell_type": "code",
   "execution_count": 13,
   "metadata": {},
   "outputs": [
    {
     "name": "stdout",
     "output_type": "stream",
     "text": [
      "     n          Xn            f(x)       f'(x)           E\n",
      "0  0.0 -0.50000000  1.57780572e+00  5.11440305         NaN\n",
      "1  0.0 -0.80850242 -1.20382680e-01  5.83465299  0.30850242\n",
      "2  1.0 -0.78787006 -2.89185605e-04  5.80572273  0.02063236\n",
      "3  2.0 -0.78782025 -1.89888105e-09  5.80564648  0.00004981\n"
     ]
    }
   ],
   "source": [
    "newton(function_1, derivate_1, -0.5, 0.0005, 15)"
   ]
  },
  {
   "cell_type": "code",
   "execution_count": 21,
   "metadata": {},
   "outputs": [],
   "source": [
    "def f_quiz(x):\n",
    "    return (1/(x*x))-math.pow(math.sin(10*x),2)+0.22"
   ]
  },
  {
   "cell_type": "code",
   "execution_count": 26,
   "metadata": {},
   "outputs": [],
   "source": [
    "def f_quiz_derivate(x):\n",
    "    return -20*math.cos(10*x)*math.sin(10*x)-(2/(math.pow(x,3)))"
   ]
  },
  {
   "cell_type": "code",
   "execution_count": 27,
   "metadata": {},
   "outputs": [
    {
     "name": "stdout",
     "output_type": "stream",
     "text": [
      "     n          Xn            f(x)        f'(x)               E\n",
      "0  0.0  1.40000000 -2.51098852e-01  -3.43792086             NaN\n",
      "1  0.0  1.32696200  3.69694248e-01 -10.72129711  7.30379965e-02\n",
      "2  1.0  1.36144423  8.75429490e-03  -9.44405582  3.44822314e-02\n",
      "3  2.0  1.36237120  4.43008977e-05  -9.34798082  9.26963485e-04\n",
      "4  3.0  1.36237594  1.18179125e-09  -9.34748207  4.73908736e-06\n",
      "5  4.0  1.36237594  2.77555756e-17  -9.34748205  1.26428867e-10\n"
     ]
    }
   ],
   "source": [
    "newton(f_quiz, f_quiz_derivate, 1.4, 0.0000001, 100)"
   ]
  },
  {
   "cell_type": "code",
   "execution_count": null,
   "metadata": {},
   "outputs": [],
   "source": []
  }
 ],
 "metadata": {
  "kernelspec": {
   "display_name": "Python 3",
   "language": "python",
   "name": "python3"
  },
  "language_info": {
   "codemirror_mode": {
    "name": "ipython",
    "version": 3
   },
   "file_extension": ".py",
   "mimetype": "text/x-python",
   "name": "python",
   "nbconvert_exporter": "python",
   "pygments_lexer": "ipython3",
   "version": "3.8.5"
  }
 },
 "nbformat": 4,
 "nbformat_minor": 4
}
