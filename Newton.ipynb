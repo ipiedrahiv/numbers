{
 "cells": [
  {
   "cell_type": "markdown",
   "metadata": {},
   "source": [
    "# The Newton-Raphson Method\n",
    "\n",
    "## The Newton-Raphson Theorem\n",
    "\n",
    "Let $f \\in C^{2}[a, b]$ and $x_{v} \\in [a, b]$ such that $f(x_{v}) \\land f'(x_{v}) \\ne 0$ then there is $d > 0$ such that the Newton method generates a sucession ${x_{n}}^{\\infty}_{n = 0}$, given by $x_{n + 1} = x - \\frac{f(x_{n})}{f'(x_{n})}$, converges to $x_v$ for any initial aproximation $x_{0} \\in [x_{v} - d, x_{v} = d]$\n",
    "\n",
    "## The Newton Method\n",
    "\n",
    "Input: ($f(x)$, $f'(x)$, $x_{0}$, $tolerance$, $max\\ iterations$)\n",
    "\n",
    "Output: ($n$, $x_n$, $f(x_n)$, $f'(x_n)$, $E$)\n"
   ]
  },
  {
   "cell_type": "code",
   "execution_count": 3,
   "metadata": {},
   "outputs": [],
   "source": [
    "import math\n",
    "import pandas as pd"
   ]
  },
  {
   "cell_type": "code",
   "execution_count": 44,
   "metadata": {},
   "outputs": [],
   "source": [
    "def newton(f, f_derivate, x0, tolerance, max_iterations):\n",
    "    current_aproximation = x0\n",
    "    #current_aproximation = previous_aproximation - (f(previous_aproximation/f_derivate(previous_aproximation)))\n",
    "    \n",
    "    current_f = f(current_aproximation) \n",
    "    current_f_derivate = f_derivate(current_aproximation) \n",
    "    \n",
    "    err = None\n",
    "    counter = 0\n",
    "    \n",
    "    # We create a data frame in which we will sotre the obtained values, to create the method chart\n",
    "    pd.set_option(\"display.precision\", 10)\n",
    "    data = {'n': [counter],\n",
    "            'Xn': [current_aproximation],\n",
    "            'f(x)': [current_f],\n",
    "            'f\\'(x)': [current_f_derivate],\n",
    "            'E': [err]}\n",
    "    output = pd.DataFrame(data)\n",
    "    \n",
    "    err = 1\n",
    "    \n",
    "    while (err>=tolerance)and (counter < max_iterations):\n",
    "        counter += 1\n",
    "        previous_aproximation = current_aproximation\n",
    "        current_aproximation = previous_aproximation - (f(previous_aproximation/f_derivate(previous_aproximation)))\n",
    "        err = abs(current_aproximation - previous_aproximation)\n",
    "        current_f = f(previous_aproximation)\n",
    "        current_f_derivate = f_derivate(previous_aproximation) \n",
    "        \n",
    "        new_line = {'n':counter,\n",
    "                    'Xn': current_aproximation,\n",
    "                    'f(x)':current_f,\n",
    "                    'f\\'(x)': current_f_derivate,\n",
    "                    'E':err}\n",
    "        output = output.append(new_line, ignore_index=True)\n",
    "        \n",
    "    print(output)"
   ]
  },
  {
   "cell_type": "code",
   "execution_count": 45,
   "metadata": {},
   "outputs": [],
   "source": [
    "def function(x):\n",
    "    return math.exp(-1*x)-math.sin(4*x)"
   ]
  },
  {
   "cell_type": "code",
   "execution_count": 46,
   "metadata": {},
   "outputs": [],
   "source": [
    "def derivate(x):\n",
    "    return (-4*math.cos(4*x)-math.exp(-1*x))"
   ]
  },
  {
   "cell_type": "code",
   "execution_count": 47,
   "metadata": {},
   "outputs": [
    {
     "name": "stdout",
     "output_type": "stream",
     "text": [
      "       n            Xn          f(x)         f'(x)             E\n",
      "0    0.0  0.2000000000  0.1013746622 -3.6055575905           NaN\n",
      "1    1.0 -1.0771008446  0.1013746622 -3.6055575905  1.2771008446\n",
      "2    2.0 -1.5485486247  2.0166532145 -1.3638099412  0.4714477802\n",
      "3    3.0 -1.7312788448  4.6157636346 -8.6888087531  0.1827302201\n",
      "4    4.0 -1.8486783929  6.2466144747 -8.8516385813  0.1173995481\n",
      "5    5.0 -1.8555632069  7.2477970918 -8.1245884257  0.0068848140\n",
      "6    6.0 -1.8546235548  7.3035428161 -8.0690655307  0.0009396521\n",
      "7    7.0 -1.8547588420  7.2959571124 -8.0767020717  0.0001352872\n",
      "8    8.0 -1.8547394989  7.2970497128 -8.0756037108  0.0000193432\n",
      "9    9.0 -1.8547422673  7.2968935033 -8.0757607762  0.0000027685\n",
      "10  10.0 -1.8547418711  7.2969158606 -8.0757382970  0.0000003962\n",
      "11  11.0 -1.8547419278  7.2969126612 -8.0757415138  0.0000000567\n"
     ]
    }
   ],
   "source": [
    "newton(function, derivate, 0.2, 0.0000001, 100)"
   ]
  },
  {
   "cell_type": "code",
   "execution_count": 48,
   "metadata": {},
   "outputs": [],
   "source": [
    "def function_1(x):\n",
    "    return math.exp(-x) - (x*x)*math.cos(2*x-4) + 6*x + 3"
   ]
  },
  {
   "cell_type": "code",
   "execution_count": 49,
   "metadata": {},
   "outputs": [],
   "source": [
    "def derivate_1(x):\n",
    "    return -math.exp(-x) - 2*x*math.cos(2*x-4) + 2*(x*x)*math.sin(2*x-4) + 6"
   ]
  },
  {
   "cell_type": "code",
   "execution_count": 50,
   "metadata": {},
   "outputs": [
    {
     "name": "stdout",
     "output_type": "stream",
     "text": [
      "       n             Xn              f(x)             f'(x)             E\n",
      "0    0.0  -0.5000000000  1.5778057243e+00  5.1144030521e+00           NaN\n",
      "1    1.0  -4.0208457762  1.5778057243e+00  5.1144030521e+00  3.5208457762\n",
      "2    2.0  -8.8072028992  2.0630695977e+01 -2.6590833040e+01  4.7863571230\n",
      "3    3.0 -12.8137290548  6.7044859890e+03 -6.7496540610e+03  4.0065261555\n",
      "4    4.0 -16.8139036760  3.6718622221e+05 -3.6690354626e+05  4.0001746213\n",
      "5    5.0 -20.8139078684  2.0052907882e+07 -2.0053207929e+07  4.0000041923\n",
      "6    6.0 -24.8139079634  1.0948769140e+09 -1.0948778647e+09  4.0000000951\n",
      "7    7.0 -28.8139079655  5.9778265044e+10 -5.9778264362e+10  4.0000000021\n",
      "8    8.0 -32.8139079655  3.2637826650e+12 -3.2637826639e+12  4.0000000000\n",
      "9    9.0 -36.8139079655  1.7819649565e+14 -1.7819649566e+14  4.0000000000\n",
      "10  10.0 -40.8139079655  9.7291990052e+15 -9.7291990052e+15  4.0000000000\n",
      "11  11.0 -44.8139079655  5.3119626699e+17 -5.3119626699e+17  4.0000000000\n",
      "12  12.0 -48.8139079655  2.9002333482e+19 -2.9002333482e+19  4.0000000000\n",
      "13  13.0 -52.8139079655  1.5834737548e+21 -1.5834737548e+21  4.0000000000\n",
      "14  14.0 -56.8139079655  8.6454737636e+22 -8.6454737636e+22  4.0000000000\n",
      "15  15.0 -60.8139079655  4.7202687365e+24 -4.7202687365e+24  4.0000000000\n"
     ]
    }
   ],
   "source": [
    "newton(function_1, derivate_1, -0.5, 0.0005, 15)"
   ]
  },
  {
   "cell_type": "code",
   "execution_count": null,
   "metadata": {},
   "outputs": [],
   "source": []
  }
 ],
 "metadata": {
  "kernelspec": {
   "display_name": "Python 3",
   "language": "python",
   "name": "python3"
  },
  "language_info": {
   "codemirror_mode": {
    "name": "ipython",
    "version": 3
   },
   "file_extension": ".py",
   "mimetype": "text/x-python",
   "name": "python",
   "nbconvert_exporter": "python",
   "pygments_lexer": "ipython3",
   "version": "3.8.5"
  }
 },
 "nbformat": 4,
 "nbformat_minor": 4
}
