{
 "cells": [
  {
   "cell_type": "markdown",
   "metadata": {},
   "source": [
    "# Bisection Method\n",
    "\n",
    "This method will find a very small interval in which there is a root of the funtion f, given that f fulfills the intermediate value theorem. The algorithm will find this reduced interval by succesively dividing a larger interval in which a root is known to exist, said interval might be found by using the iterative search method."
   ]
  },
  {
   "cell_type": "code",
   "execution_count": 3,
   "metadata": {},
   "outputs": [],
   "source": [
    "import math\n",
    "import pandas as pd"
   ]
  },
  {
   "cell_type": "code",
   "execution_count": 1,
   "metadata": {},
   "outputs": [],
   "source": [
    "def bisection_method(f, a, b, tolerance):\n",
    "    # We calculate the max number of iterations based on the tolerance\n",
    "    max_iterations = math.ceil(math.log((b-a) * (1/tolerance)) / math.log(2))\n",
    "    \n",
    "    # We calculate the midpoint of the given interval\n",
    "    c = (a+b)/2\n",
    "    previous_c = c # This is an auxiliar variable that will allow us to save the c of the last iteration, it will be used to calculat the error\n",
    "    \n",
    "    # We evaluate all the relevant points of the interval on the given function\n",
    "    f_a = f(a)\n",
    "    f_b = f(b)\n",
    "    f_c = f(c)\n",
    "    \n",
    "    # We initializa a counter\n",
    "    count = 0\n",
    "    \n",
    "    # We initialize an empty variable in which we will store the absolute error\n",
    "    err = None\n",
    "    \n",
    "    # We create a data frame in which we will sotre the obtained values, to create the method chart\n",
    "    pd.set_option(\"display.precision\", 8)\n",
    "    data = {'n': [count],\n",
    "            'a': [a],\n",
    "            'c': [c],\n",
    "            'b': [b],\n",
    "            'f(c)': [f_c],\n",
    "            'E': [err]}\n",
    "    output = pd.DataFrame(data)\n",
    "\n",
    "    # We start iterating, the tolerance will not be considered as a condition because we already calculated the amount of iterations necessary to achieve the decired precition\n",
    "    while (count < max_iterations):\n",
    "        # Is the root in the left interval?\n",
    "        if f_a * f_c < 0:\n",
    "            b = c\n",
    "            f_b = f(b)\n",
    "        # Is it in the right interval?    \n",
    "        elif f_b * f_c < 0:\n",
    "            a = c\n",
    "            f_a = f(a)\n",
    "        \n",
    "        # Calculate new c\n",
    "        c = (a+b)/2\n",
    "        \n",
    "        # Calculate absolute error\n",
    "        err = abs(previous_c - c)\n",
    "        \n",
    "        # Evaluate the function in the new c value\n",
    "        f_c = f(c)\n",
    "        \n",
    "        # Add one to the counter\n",
    "        count += 1\n",
    "        \n",
    "        # Append the new row to the method chart\n",
    "        new_line = {'n':count,\n",
    "                    'a': a,\n",
    "                    'c':c,\n",
    "                    'b': b,\n",
    "                    'f(c)':f_c,\n",
    "                    'E':err}\n",
    "        output = output.append(new_line, ignore_index=True)\n",
    "        \n",
    "        # Sace the current c as previous c, in order to calculate E later on\n",
    "        previous_c = c\n",
    "        \n",
    "        \n",
    "    print(output)\n",
    "    print (f'There is a root in the interval [{a},{b}]')\n",
    "    return [a, b]"
   ]
  },
  {
   "cell_type": "markdown",
   "metadata": {},
   "source": [
    "# 2.1 El método se detiene en la iteración i =\n",
    "\n",
    "Usamos la cota de error para calcular n"
   ]
  },
  {
   "cell_type": "code",
   "execution_count": 57,
   "metadata": {},
   "outputs": [
    {
     "data": {
      "text/plain": [
       "25"
      ]
     },
     "execution_count": 57,
     "metadata": {},
     "output_type": "execute_result"
    }
   ],
   "source": [
    "math.ceil(math.log((2-0) * (1/math.pow(10,-7))) / math.log(2)) # Despejando n en la formula para el error máximo"
   ]
  },
  {
   "cell_type": "markdown",
   "metadata": {},
   "source": [
    "# 2.2 Con aproximación (escríbase con 4 decimales) xi\n",
    "\n",
    "Llamamos a la función de bisección para hallar el valor aproximado de la raiz"
   ]
  },
  {
   "cell_type": "code",
   "execution_count": 58,
   "metadata": {},
   "outputs": [],
   "source": [
    "# Describimos la funcion\n",
    "def function(x):\n",
    "    return (math.log((x*x) + x + 0.6) + 0.5 - x)"
   ]
  },
  {
   "cell_type": "code",
   "execution_count": 59,
   "metadata": {},
   "outputs": [
    {
     "name": "stdout",
     "output_type": "stream",
     "text": [
      "       n           a           c           b            f(c)           E\n",
      "0    0.0  0.00000000  1.00000000  2.00000000  4.55511445e-01         NaN\n",
      "1    1.0  0.00000000  0.50000000  1.00000000  3.00104592e-01  0.50000000\n",
      "2    2.0  0.00000000  0.25000000  0.50000000  1.58432806e-01  0.25000000\n",
      "3    3.0  0.00000000  0.12500000  0.25000000  7.47391453e-02  0.12500000\n",
      "4    4.0  0.00000000  0.06250000  0.12500000  3.16441906e-02  0.06250000\n",
      "5    5.0  0.00000000  0.03125000  0.06250000  1.02425359e-02  0.03125000\n",
      "6    6.0  0.00000000  0.01562500  0.03125000 -3.45772066e-04  0.01562500\n",
      "7    7.0  0.01562500  0.02343750  0.03125000  4.93646161e-03  0.00781250\n",
      "8    8.0  0.01562500  0.01953125  0.02343750  2.29216451e-03  0.00390625\n",
      "9    9.0  0.01562500  0.01757812  0.01953125  9.72375753e-04  0.00195312\n",
      "10  10.0  0.01562500  0.01660156  0.01757812  3.13093526e-04  0.00097656\n",
      "11  11.0  0.01562500  0.01611328  0.01660156 -1.63917509e-05  0.00048828\n",
      "12  12.0  0.01611328  0.01635742  0.01660156  1.48337818e-04  0.00024414\n",
      "13  13.0  0.01611328  0.01623535  0.01635742  6.59697596e-05  0.00012207\n",
      "14  14.0  0.01611328  0.01617432  0.01623535  2.47881851e-05  0.00006104\n",
      "15  15.0  0.01611328  0.01614380  0.01617432  4.19801220e-06  0.00003052\n",
      "16  16.0  0.01611328  0.01612854  0.01614380 -6.09692060e-06  0.00001526\n",
      "17  17.0  0.01612854  0.01613617  0.01614380 -9.49467008e-07  0.00000763\n",
      "18  18.0  0.01613617  0.01613998  0.01614380  1.62426939e-06  0.00000381\n",
      "19  19.0  0.01613617  0.01613808  0.01613998  3.37400392e-07  0.00000191\n",
      "20  20.0  0.01613617  0.01613712  0.01613808 -3.06033508e-07  0.00000095\n",
      "21  21.0  0.01613712  0.01613760  0.01613808  1.56833919e-08  0.00000048\n",
      "22  22.0  0.01613712  0.01613736  0.01613760 -1.45175071e-07  0.00000024\n",
      "23  23.0  0.01613736  0.01613748  0.01613760 -6.47458425e-08  0.00000012\n",
      "24  24.0  0.01613748  0.01613754  0.01613760 -2.45312261e-08  0.00000006\n",
      "25  25.0  0.01613754  0.01613757  0.01613760 -4.42391734e-09  0.00000003\n",
      "There is a root in the interval [0.016137540340423584,0.01613759994506836]\n"
     ]
    },
    {
     "data": {
      "text/plain": [
       "[0.016137540340423584, 0.01613759994506836]"
      ]
     },
     "execution_count": 59,
     "metadata": {},
     "output_type": "execute_result"
    }
   ],
   "source": [
    "# Llamamos a la función de bisección usando a la funcion definida como parametro\n",
    "bisection_method(function, 0, 2, math.pow(10,-7))"
   ]
  },
  {
   "cell_type": "code",
   "execution_count": 14,
   "metadata": {},
   "outputs": [
    {
     "data": {
      "text/plain": [
       "0.45551144502743623"
      ]
     },
     "execution_count": 14,
     "metadata": {},
     "output_type": "execute_result"
    }
   ],
   "source": [
    "function(1)"
   ]
  },
  {
   "cell_type": "code",
   "execution_count": 2,
   "metadata": {},
   "outputs": [],
   "source": [
    "def fake_rule(f, a, b, tolerance):\n",
    "    # We calculate the max number of iterations based on the tolerance\n",
    "    max_iterations = math.ceil(math.log((b-a) * (1/tolerance)) / math.log(2))\n",
    "    \n",
    "    # We calculate the midpoint of the given interval\n",
    "    c = (a+b)/2\n",
    "    previous_c = c # This is an auxiliar variable that will allow us to save the c of the last iteration, it will be used to calculat the error\n",
    "    \n",
    "    # We evaluate all the relevant points of the interval on the given function\n",
    "    f_a = f(a)\n",
    "    f_b = f(b)\n",
    "    f_c = f(c)\n",
    "    \n",
    "    # We initializa a counter\n",
    "    count = 0\n",
    "    \n",
    "    # We initialize an empty variable in which we will store the absolute error\n",
    "    err = None\n",
    "    \n",
    "    # We create a data frame in which we will sotre the obtained values, to create the method chart\n",
    "    pd.set_option(\"display.precision\", 8)\n",
    "    data = {'n': [count],\n",
    "            'a': [a],\n",
    "            'c': [c],\n",
    "            'b': [b],\n",
    "            'f(c)': [f_c],\n",
    "            'E': [err]}\n",
    "    output = pd.DataFrame(data)\n",
    "\n",
    "    # We start iterating, the tolerance will not be considered as a condition because we already calculated the amount of iterations necessary to achieve the decired precition\n",
    "    while (count < max_iterations):\n",
    "        # Is the root in the left interval?\n",
    "        if f_a * f_c < 0:\n",
    "            b = c\n",
    "            f_b = f(b)\n",
    "        # Is it in the right interval?    \n",
    "        elif f_b * f_c < 0:\n",
    "            a = c\n",
    "            f_a = f(a)\n",
    "        \n",
    "        # Calculate new c\n",
    "        c = a - (f(a)*(b-a)/(f(b)-f(a)))\n",
    "        \n",
    "        # Calculate absolute error\n",
    "        err = abs(previous_c - c)\n",
    "        \n",
    "        # Evaluate the function in the new c value\n",
    "        f_c = f(c)\n",
    "        \n",
    "        # Add one to the counter\n",
    "        count += 1\n",
    "        \n",
    "        # Append the new row to the method chart\n",
    "        new_line = {'n':count,\n",
    "                    'a': a,\n",
    "                    'c':c,\n",
    "                    'b': b,\n",
    "                    'f(c)':f_c,\n",
    "                    'E':err}\n",
    "        output = output.append(new_line, ignore_index=True)\n",
    "        \n",
    "        # Sace the current c as previous c, in order to calculate E later on\n",
    "        previous_c = c\n",
    "        \n",
    "        \n",
    "    print(output)\n",
    "    print (f'There is a root in the interval [{a},{b}]')\n",
    "    return [a, b]"
   ]
  },
  {
   "cell_type": "code",
   "execution_count": null,
   "metadata": {},
   "outputs": [],
   "source": []
  }
 ],
 "metadata": {
  "kernelspec": {
   "display_name": "Python 3",
   "language": "python",
   "name": "python3"
  },
  "language_info": {
   "codemirror_mode": {
    "name": "ipython",
    "version": 3
   },
   "file_extension": ".py",
   "mimetype": "text/x-python",
   "name": "python",
   "nbconvert_exporter": "python",
   "pygments_lexer": "ipython3",
   "version": "3.8.5"
  }
 },
 "nbformat": 4,
 "nbformat_minor": 4
}
