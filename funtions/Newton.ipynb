{
 "cells": [
  {
   "cell_type": "markdown",
   "metadata": {},
   "source": [
    "# The Newton-Raphson Method\n",
    "\n",
    "## The Newton-Raphson Theorem\n",
    "\n",
    "Let $f \\in C^{2}[a, b]$ and $x_{v} \\in [a, b]$ such that $f(x_{v}) \\land f'(x_{v}) \\ne 0$ then there is $d > 0$ such that the Newton method generates a sucession ${x_{n}}^{\\infty}_{n = 0}$, given by $x_{n + 1} = x - \\frac{f(x_{n})}{f'(x_{n})}$, converges to $x_v$ for any initial aproximation $x_{0} \\in [x_{v} - d, x_{v} = d]$\n",
    "\n",
    "## The Newton Method\n",
    "\n",
    "Input: ($f(x)$, $f'(x)$, $x_{0}$, $tolerance$, $max\\ iterations$)\n",
    "\n",
    "Output: ($n$, $x_n$, $f(x_n)$, $f'(x_n)$, $E$)\n"
   ]
  },
  {
   "cell_type": "code",
   "execution_count": 5,
   "metadata": {},
   "outputs": [],
   "source": [
    "import math\n",
    "import pandas as pd"
   ]
  },
  {
   "cell_type": "code",
   "execution_count": 6,
   "metadata": {},
   "outputs": [],
   "source": [
    "def newton(f, f_derivate, x0, tolerance, max_iterations):\n",
    "    n = 0\n",
    "    \n",
    "    pd.set_option(\"display.precision\", 8)\n",
    "    data = {'n': [n],\n",
    "            'Xn': [x0],\n",
    "            'f(x)': [f(x0)],\n",
    "            'f\\'(x)': [f_derivate(x0)],\n",
    "            'E': [None]}\n",
    "    output = pd.DataFrame(data)\n",
    "    \n",
    "    while n < max_iterations:\n",
    "        if f_derivate(x0) == 0:\n",
    "            return None\n",
    "        \n",
    "        n += 1\n",
    "        \n",
    "        x1 = x0 - (f(x0) / f_derivate(x0))\n",
    "        err = abs(x1 - x0)\n",
    "        x0 = x1\n",
    "        \n",
    "        new_line = {'n':n,\n",
    "                    'Xn': x1,\n",
    "                    'f(x)':f(x1),\n",
    "                    'f\\'(x)': f_derivate(x1),\n",
    "                    'E':err}\n",
    "        output = output.append(new_line, ignore_index=True)\n",
    "        \n",
    "        if err <= tolerance:\n",
    "            break\n",
    "            \n",
    "        \n",
    "        \n",
    "    print (output)\n",
    "        \n",
    "        "
   ]
  },
  {
   "cell_type": "code",
   "execution_count": 7,
   "metadata": {},
   "outputs": [],
   "source": [
    "def function(x):\n",
    "    return math.exp(-1*x)-math.sin(4*x)"
   ]
  },
  {
   "cell_type": "code",
   "execution_count": 8,
   "metadata": {},
   "outputs": [],
   "source": [
    "def derivate(x):\n",
    "    return (-4*math.cos(4*x)-math.exp(-1*x))"
   ]
  },
  {
   "cell_type": "code",
   "execution_count": 9,
   "metadata": {},
   "outputs": [
    {
     "name": "stdout",
     "output_type": "stream",
     "text": [
      "     n          Xn            f(x)       f'(x)               E\n",
      "0  0.0  0.20000000  1.01374662e-01 -3.60555759             NaN\n",
      "1  1.0  0.22811622  5.01757967e-03 -3.24322312  2.81162233e-02\n",
      "2  2.0  0.22966332  1.61226702e-05 -3.22236539  1.54709667e-03\n",
      "3  3.0  0.22966832  1.69120051e-10 -3.22229779  5.00336499e-06\n",
      "4  4.0  0.22966832  1.11022302e-16 -3.22229779  5.24842947e-11\n"
     ]
    }
   ],
   "source": [
    "newton(function, derivate, 0.2, 0.0000001, 100)"
   ]
  },
  {
   "cell_type": "code",
   "execution_count": 10,
   "metadata": {},
   "outputs": [],
   "source": [
    "def function_1(x):\n",
    "    return math.exp(-x) - (x*x)*math.cos(2*x-4) + 6*x + 3"
   ]
  },
  {
   "cell_type": "code",
   "execution_count": 11,
   "metadata": {},
   "outputs": [],
   "source": [
    "def derivate_1(x):\n",
    "    return -math.exp(-x) - 2*x*math.cos(2*x-4) + 2*(x*x)*math.sin(2*x-4) + 6"
   ]
  },
  {
   "cell_type": "code",
   "execution_count": 12,
   "metadata": {},
   "outputs": [
    {
     "name": "stdout",
     "output_type": "stream",
     "text": [
      "     n          Xn            f(x)       f'(x)           E\n",
      "0  0.0 -0.50000000  1.57780572e+00  5.11440305         NaN\n",
      "1  1.0 -0.80850242 -1.20382680e-01  5.83465299  0.30850242\n",
      "2  2.0 -0.78787006 -2.89185605e-04  5.80572273  0.02063236\n",
      "3  3.0 -0.78782025 -1.89888105e-09  5.80564648  0.00004981\n"
     ]
    }
   ],
   "source": [
    "newton(function_1, derivate_1, -0.5, 0.0005, 15)"
   ]
  },
  {
   "cell_type": "code",
   "execution_count": 13,
   "metadata": {},
   "outputs": [],
   "source": [
    "def f_quiz(x):\n",
    "    return (1/(x*x))-math.pow(math.sin(10*x),2)+0.22"
   ]
  },
  {
   "cell_type": "code",
   "execution_count": 14,
   "metadata": {},
   "outputs": [],
   "source": [
    "def f_quiz_derivate(x):\n",
    "    return -20*math.cos(10*x)*math.sin(10*x)-(2/(math.pow(x,3)))"
   ]
  },
  {
   "cell_type": "code",
   "execution_count": 15,
   "metadata": {},
   "outputs": [
    {
     "name": "stdout",
     "output_type": "stream",
     "text": [
      "     n          Xn            f(x)        f'(x)               E\n",
      "0  0.0  1.40000000 -2.51098852e-01  -3.43792086             NaN\n",
      "1  1.0  1.32696200  3.69694248e-01 -10.72129711  7.30379965e-02\n",
      "2  2.0  1.36144423  8.75429490e-03  -9.44405582  3.44822314e-02\n",
      "3  3.0  1.36237120  4.43008977e-05  -9.34798082  9.26963485e-04\n",
      "4  4.0  1.36237594  1.18179125e-09  -9.34748207  4.73908736e-06\n",
      "5  5.0  1.36237594  2.77555756e-17  -9.34748205  1.26428867e-10\n"
     ]
    }
   ],
   "source": [
    "newton(f_quiz, f_quiz_derivate, 1.4, 0.0000001, 100)"
   ]
  },
  {
   "cell_type": "markdown",
   "metadata": {},
   "source": [
    "# QUIZ \n",
    "\n",
    "1. Queremos que el método de Newton converja a la primera raíz positiva de f. Corra el método usando tol=10−7 y Nmax=100. Tome aproximación inicial x0=4. Escriba la iteración de la última fila (primer espacio), la aproximación de la raíz redondeada a 4 decimales (segundo espacio). Responda las dos preguntas (tercer espacio):  ¿Se alcanza la convergencia deseada? ¿Es este el comportamiento normal del método?\n",
    "\n",
    "$f(x) = e^{2x}−2x^8e^x+x^16$\n",
    "\n",
    "De ahí derivamos usando Mathway para hallar $f'(x)$\n",
    "\n",
    "$f'(x) = 16x^{15}-2e^xx^8-16e^xx^7+2e^{2x}$"
   ]
  },
  {
   "cell_type": "code",
   "execution_count": 16,
   "metadata": {},
   "outputs": [],
   "source": [
    "def f(x):\n",
    "    return math.exp(2*x)-2*math.pow(x,8)*math.exp(x)+math.pow(x,16)"
   ]
  },
  {
   "cell_type": "code",
   "execution_count": 19,
   "metadata": {},
   "outputs": [],
   "source": [
    "def f_prima(x):\n",
    "    return 16*math.pow(x,15)-2*math.exp(x)*math.pow(x,8)-16*math.exp(x)*math.pow(x,7)+2*math.exp(2*x)"
   ]
  },
  {
   "cell_type": "code",
   "execution_count": 20,
   "metadata": {},
   "outputs": [
    {
     "name": "stdout",
     "output_type": "stream",
     "text": [
      "       n          Xn            f(x)           f'(x)           E\n",
      "0    0.0  4.00000000  4.28781399e+09  1.71584063e+10         NaN\n",
      "1    1.0  3.75010418  1.52668169e+09  6.51742701e+09  0.24989582\n",
      "2    2.0  3.51585811  5.43561743e+08  2.47564675e+09  0.23424607\n",
      "3    3.0  3.29629457  1.93522421e+08  9.40417716e+08  0.21956353\n",
      "4    4.0  3.09051110  6.88948877e+07  3.57258143e+08  0.20578347\n",
      "5    5.0  2.89766767  2.45246497e+07  1.35733544e+08  0.19284344\n",
      "6    6.0  2.71698536  8.72888325e+06  5.15772340e+07  0.18068231\n",
      "7    7.0  2.54774629  3.10616109e+06  1.96032690e+07  0.16923907\n",
      "8    8.0  2.38929511  1.10497297e+06  7.45333172e+06  0.15845118\n",
      "9    9.0  2.24104289  3.92888423e+05  2.83533212e+06  0.14825222\n",
      "10  10.0  2.10247414  1.39593286e+05  1.07947541e+06  0.13856875\n",
      "11  11.0  1.97315829  4.95408513e+04  4.11498945e+05  0.12931586\n",
      "12  12.0  1.85276709  1.75507351e+04  1.57169831e+05  0.12039120\n",
      "13  13.0  1.74109976  6.20067475e+03  6.02107270e+04  0.11166733\n",
      "14  14.0  1.63811687  2.18142791e+03  2.31733538e+04  0.10298289\n",
      "15  15.0  1.54398168  7.62419149e+02  8.98222489e+03  0.09413518\n",
      "16  16.0  1.45910081  2.63795621e+02  3.51915541e+03  0.08488088\n",
      "17  17.0  1.38414088  8.98879198e+01  1.40081328e+03  0.07495992\n",
      "18  18.0  1.31997250  2.99448096e+01  5.70304362e+02  0.06416838\n",
      "19  19.0  1.26746578  9.66215759e+00  2.39261840e+02  0.05250672\n",
      "20  20.0  1.22708259  2.98964632e+00  1.04093577e+02  0.04038320\n",
      "21  21.0  1.19836183  8.80593512e-01  4.70662814e+01  0.02872076\n",
      "22  22.0  1.17965219  2.46772706e-01  2.20343994e+01  0.01870965\n",
      "23  23.0  1.16845276  6.62878367e-02  1.05928746e+01  0.01119943\n",
      "24  24.0  1.16219498  1.72738359e-02  5.18202056e+00  0.00625778\n",
      "25  25.0  1.15886156  4.41686961e-03  2.56116225e+00  0.00333342\n",
      "26  26.0  1.15713701  1.11730620e-03  1.27294747e+00  0.00172456\n",
      "27  27.0  1.15625927  2.81016448e-04  6.34542705e-01  0.00087773\n",
      "28  28.0  1.15581641  7.04688709e-05  3.16785690e-01  0.00044286\n",
      "29  29.0  1.15559396  1.76442879e-05  1.58271061e-01  0.00022245\n",
      "30  30.0  1.15548248  4.41447001e-06  7.91050384e-02  0.00011148\n",
      "31  31.0  1.15542667  1.10404315e-06  3.95448903e-02  0.00005581\n",
      "32  32.0  1.15539875  2.76064050e-07  1.97705372e-02  0.00002792\n",
      "33  33.0  1.15538479  6.90226738e-08  9.88479150e-03  0.00001396\n",
      "34  34.0  1.15537781  1.72565020e-08  4.94227646e-03  0.00000698\n",
      "35  35.0  1.15537432  4.31422720e-09  2.47110830e-03  0.00000349\n",
      "36  36.0  1.15537257  1.07857012e-09  1.23554723e-03  0.00000175\n",
      "37  37.0  1.15537170  2.69645639e-10  6.17772371e-04  0.00000087\n",
      "38  38.0  1.15537126  6.74127421e-11  3.08884956e-04  0.00000044\n",
      "39  39.0  1.15537104  1.68505210e-11  1.54438630e-04  0.00000022\n",
      "40  40.0  1.15537093  4.21174207e-12  7.72260141e-05  0.00000011\n",
      "41  41.0  1.15537088  1.05515596e-12  3.86312598e-05  0.00000005\n"
     ]
    }
   ],
   "source": [
    "newton(f, f_prima, 4, 0.0000001, 100)"
   ]
  },
  {
   "cell_type": "code",
   "execution_count": null,
   "metadata": {},
   "outputs": [],
   "source": []
  }
 ],
 "metadata": {
  "kernelspec": {
   "display_name": "Python 3",
   "language": "python",
   "name": "python3"
  },
  "language_info": {
   "codemirror_mode": {
    "name": "ipython",
    "version": 3
   },
   "file_extension": ".py",
   "mimetype": "text/x-python",
   "name": "python",
   "nbconvert_exporter": "python",
   "pygments_lexer": "ipython3",
   "version": "3.7.6"
  }
 },
 "nbformat": 4,
 "nbformat_minor": 4
}
