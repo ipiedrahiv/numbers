{
 "cells": [
  {
   "cell_type": "code",
   "execution_count": 1,
   "metadata": {},
   "outputs": [],
   "source": [
    "import math\n",
    "import pandas as pd\n",
    "import decimal"
   ]
  },
  {
   "cell_type": "code",
   "execution_count": 2,
   "metadata": {},
   "outputs": [],
   "source": [
    "def accelerated_fixed_point(f, x0, tolerance, max_iterations):\n",
    "    current_aproximation = x0\n",
    "    current_f = f(current_aproximation) \n",
    "    n = 0\n",
    "    \n",
    "    # We create a data frame in which we will sotre the obtained values, to create the method chart\n",
    "    pd.set_option(\"display.precision\", 10)\n",
    "    data = {'n': [n],\n",
    "            'Xn': [current_aproximation],\n",
    "            'f(x)': [current_f],\n",
    "            'E': [None]}\n",
    "    output = pd.DataFrame(data)\n",
    "    \n",
    "    while (n < max_iterations):\n",
    "        n += 1\n",
    "        \n",
    "        current_f = f(current_aproximation)\n",
    "        previous_aproximation = current_aproximation\n",
    "        current_aproximation = previous_aproximation - ((math.pow(f(previous_aproximation),2))/(f(previous_aproximation + f(previous_aproximation))-f(previous_aproximation)))\n",
    "        err = abs(current_aproximation - previous_aproximation)\n",
    "        \n",
    "        new_line = {'n':n,\n",
    "                    'Xn': current_aproximation,\n",
    "                    'f(x)':current_f,\n",
    "                    'E':err}\n",
    "        output = output.append(new_line, ignore_index=True)\n",
    "        \n",
    "        if err <= tolerance:\n",
    "            break\n",
    "            \n",
    "    print(output)"
   ]
  },
  {
   "cell_type": "code",
   "execution_count": 3,
   "metadata": {},
   "outputs": [],
   "source": [
    "def f(x):\n",
    "    return ((x * x) - (x) + 1.25 - math.exp(x))"
   ]
  },
  {
   "cell_type": "code",
   "execution_count": 4,
   "metadata": {},
   "outputs": [
    {
     "name": "stdout",
     "output_type": "stream",
     "text": [
      "     n            Xn              f(x)                 E\n",
      "0  0.0  0.0050000000  2.4001247914e-01               NaN\n",
      "1  1.0  0.1322691826  2.4001247914e-01  1.2726918258e-01\n",
      "2  2.0  0.1289760535 -6.1895730220e-03  3.2931290834e-03\n",
      "3  3.0  0.1289738660 -4.1119207499e-06  2.1875263626e-06\n",
      "4  4.0  0.1289738660 -1.8149926007e-12  9.6561647567e-13\n"
     ]
    }
   ],
   "source": [
    "accelerated_fixed_point(f, 0.005, 0.0000001, 100)"
   ]
  },
  {
   "cell_type": "code",
   "execution_count": 9,
   "metadata": {},
   "outputs": [
    {
     "data": {
      "text/plain": [
       "1.6487212707001282"
      ]
     },
     "execution_count": 9,
     "metadata": {},
     "output_type": "execute_result"
    }
   ],
   "source": [
    "math.exp(0.5)"
   ]
  },
  {
   "cell_type": "code",
   "execution_count": null,
   "metadata": {},
   "outputs": [],
   "source": [
    "def newton(f, f_derivate, x0, tolerance, max_iterations):\n",
    "    n = 0\n",
    "    \n",
    "    pd.set_option(\"display.precision\", 8)\n",
    "    data = {'n': [n],\n",
    "            'Xn': [x0],\n",
    "            'f(x)': [f(x0)],\n",
    "            'f\\'(x)': [f_derivate(x0)],\n",
    "            'E': [None]}\n",
    "    output = pd.DataFrame(data)\n",
    "    \n",
    "    while n < max_iterations:\n",
    "        if f_derivate(x0) == 0:\n",
    "            return None\n",
    "        \n",
    "        n += 1\n",
    "        \n",
    "        x1 = x0 - (f(x0) / f_derivate(x0))\n",
    "        err = abs(x1 - x0)\n",
    "        x0 = x1\n",
    "        \n",
    "        new_line = {'n':n,\n",
    "                    'Xn': x1,\n",
    "                    'f(x)':f(x1),\n",
    "                    'f\\'(x)': f_derivate(x1),\n",
    "                    'E':err}\n",
    "        output = output.append(new_line, ignore_index=True)\n",
    "        \n",
    "        if err <= tolerance:\n",
    "            break\n",
    "            \n",
    "        \n",
    "        \n",
    "    print (output)\n",
    "        \n",
    "        "
   ]
  },
  {
   "cell_type": "code",
   "execution_count": 35,
   "metadata": {},
   "outputs": [],
   "source": [
    "def f2(x):\n",
    "    math.exp(-((1)/((x-1)**(2))))-((x)/(2))+0.6"
   ]
  },
  {
   "cell_type": "code",
   "execution_count": null,
   "metadata": {},
   "outputs": [],
   "source": [
    "newton(f2, f_derivate, x0, tolerance, max_iterations)"
   ]
  },
  {
   "cell_type": "markdown",
   "metadata": {},
   "source": []
  }
 ],
 "metadata": {
  "kernelspec": {
   "display_name": "Python 3",
   "language": "python",
   "name": "python3"
  },
  "language_info": {
   "codemirror_mode": {
    "name": "ipython",
    "version": 3
   },
   "file_extension": ".py",
   "mimetype": "text/x-python",
   "name": "python",
   "nbconvert_exporter": "python",
   "pygments_lexer": "ipython3",
   "version": "3.8.5"
  }
 },
 "nbformat": 4,
 "nbformat_minor": 4
}
