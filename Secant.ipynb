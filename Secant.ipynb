{
 "cells": [
  {
   "cell_type": "markdown",
   "metadata": {},
   "source": [
    "# The Secant method\n",
    "\n",
    "This method seeks to fix one of the biggest problems in Newton's method, which is the complexity of calculationg the derivate of a function.\n",
    "\n",
    "In Newton's method each iteration is given by \n",
    "\n",
    "$x_{n + 1} = x - \\frac{f(x_{n})}{f'(x_{n})}$\n",
    "\n",
    "where \n",
    "\n",
    "$ f'(x_n) = \\lim_{x \\to x_n} frac{f(x)-f(x_n)}{x-x_n}$\n",
    "\n",
    "If we aproxiumate the value of this limit by evluating it in $x_{n-1}$ we get\n",
    "\n",
    "$f'(x_n) \\approx \\frac{f(x_{n-1})-f(x_n)}{x)_{n-1}-x_n} = \\frac{f(x_n)-f(x_{n-1})}{x_n-x_{n-1}}$\n",
    "\n",
    "by replacing the derivate with this new aproximated value in Newtonś method, we find a new oterative ecuation that looks like this\n",
    "\n",
    "$x_{n + 1} = x_n - \\frac{f(x_n)(x_n-x_{n-1})}{f(x_n)-f(x_{n-1})}$\n",
    "\n",
    "This comes with the following problems: The method will be slower, and we will need to find two initial aproximations."
   ]
  },
  {
   "cell_type": "code",
   "execution_count": 2,
   "metadata": {},
   "outputs": [],
   "source": [
    "import math\n",
    "import pandas as pd"
   ]
  },
  {
   "cell_type": "code",
   "execution_count": 26,
   "metadata": {},
   "outputs": [],
   "source": [
    "def secant(f, x0, x1, tolerance, max_iterations):\n",
    "    \n",
    "    pd.set_option(\"display.precision\", 8)\n",
    "    data = {'n': [0, 1],\n",
    "         'Xn': [x0, x1],\n",
    "        'f(xn)': [f(x0), f(x1)],\n",
    "        'E': [None, None],}\n",
    "    output = pd.DataFrame(data)\n",
    "    \n",
    "    n = 2\n",
    "    previous_x = x1\n",
    "    previous_previous_x = x0\n",
    "    \n",
    "    while n < max_iterations:\n",
    "        \n",
    "        current_x = previous_x - ((f(previous_x)*(previous_x - previous_previous_x))/(f(previous_x) - f(previous_previous_x)))\n",
    "        err = abs(current_x-previous_x)\n",
    "        previous_previous_x = previous_x\n",
    "        previous_x = current_x\n",
    "        \n",
    "        new_line = {'n':n,\n",
    "            'Xn': current_x,\n",
    "            'f(xn)':f(current_x),\n",
    "            'E':err,}\n",
    "\n",
    "        output = output.append(new_line, ignore_index=True)\n",
    "        \n",
    "        if err <= tolerance:\n",
    "            break\n",
    "            \n",
    "        n += 1\n",
    "        \n",
    "    print (output)"
   ]
  },
  {
   "cell_type": "code",
   "execution_count": 27,
   "metadata": {},
   "outputs": [],
   "source": [
    "def f(x):\n",
    "    return math.exp(-x)-math.sin(4*x)"
   ]
  },
  {
   "cell_type": "code",
   "execution_count": 30,
   "metadata": {},
   "outputs": [
    {
     "name": "stdout",
     "output_type": "stream",
     "text": [
      "     n          Xn           f(xn)               E\n",
      "0  0.0  0.20000000  1.01374662e-01             NaN\n",
      "1  1.0  0.30000000 -1.91220865e-01             NaN\n",
      "2  2.0  0.23464669 -1.58735632e-02  6.53533111e-02\n",
      "3  3.0  0.22873049  3.02792230e-03  5.91620118e-03\n",
      "4  4.0  0.22967823 -3.19319097e-05  9.47745482e-04\n",
      "5  5.0  0.22966834 -6.26106139e-08  9.89044610e-06\n",
      "6  6.0  0.22966832  1.30095934e-12  1.94308290e-08\n",
      "7  7.0  0.22966832  0.00000000e+00  4.03732603e-13\n"
     ]
    }
   ],
   "source": [
    "secant(f, 0.2, 0.3, 0.00000000001, 100)"
   ]
  },
  {
   "cell_type": "code",
   "execution_count": 31,
   "metadata": {},
   "outputs": [],
   "source": [
    "def f_quiz(x):\n",
    "    return (1/(x*x))-math.pow(math.sin(10*x),2)+0.22"
   ]
  },
  {
   "cell_type": "code",
   "execution_count": 33,
   "metadata": {},
   "outputs": [
    {
     "name": "stdout",
     "output_type": "stream",
     "text": [
      "       n          Xn           f(xn)               E\n",
      "0    0.0  1.40000000 -2.51098852e-01             NaN\n",
      "1    1.0 -0.50000000  3.30046424e+00             NaN\n",
      "2    2.0  1.26566821  8.36118430e-01  1.76566821e+00\n",
      "3    3.0  1.86473500  4.67251689e-01  5.99066791e-01\n",
      "4    4.0  2.62358620 -4.31486809e-01  7.58851201e-01\n",
      "5    5.0  2.25925967  9.57434297e-02  3.64326536e-01\n",
      "6    6.0  2.32542027 -5.03321337e-01  6.61606059e-02\n",
      "7    7.0  2.26983356 -8.01343416e-03  5.55867186e-02\n",
      "8    8.0  2.26893424  1.01078692e-03  8.99320416e-04\n",
      "9    9.0  2.26903497  1.33393306e-06  1.00731277e-04\n",
      "10  10.0  2.26903510 -2.29681468e-10  1.33110489e-07\n",
      "11  11.0  2.26903510 -1.36002321e-15  2.29154473e-11\n"
     ]
    }
   ],
   "source": [
    "secant(f_quiz, 1.4, -0.5, 0.0000001, 100)"
   ]
  },
  {
   "cell_type": "code",
   "execution_count": null,
   "metadata": {},
   "outputs": [],
   "source": []
  }
 ],
 "metadata": {
  "kernelspec": {
   "display_name": "Python 3",
   "language": "python",
   "name": "python3"
  },
  "language_info": {
   "codemirror_mode": {
    "name": "ipython",
    "version": 3
   },
   "file_extension": ".py",
   "mimetype": "text/x-python",
   "name": "python",
   "nbconvert_exporter": "python",
   "pygments_lexer": "ipython3",
   "version": "3.8.5"
  }
 },
 "nbformat": 4,
 "nbformat_minor": 4
}
