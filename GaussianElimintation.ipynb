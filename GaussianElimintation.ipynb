{
 "cells": [
  {
   "cell_type": "code",
   "execution_count": 3,
   "metadata": {},
   "outputs": [],
   "source": [
    "import numpy as np\n",
    "import sys"
   ]
  },
  {
   "cell_type": "code",
   "execution_count": 4,
   "metadata": {},
   "outputs": [],
   "source": [
    "def gauss_with_interaction():\n",
    "    n = int(input('Enter number of unknowns: '))\n",
    "\n",
    "    # Making numpy array of n x n+1 size and initializing \n",
    "    # to zero for storing augmented matrix\n",
    "    a = np.zeros((n,n+1))\n",
    "    print (a.type)\n",
    "    # Making numpy array of n size and initializing \n",
    "    # to zero for storing solution vector\n",
    "    x = np.zeros(n)\n",
    "\n",
    "    # Reading augmented matrix coefficients\n",
    "    print('Enter Augmented Matrix Coefficients:')\n",
    "    for i in range(n):\n",
    "        for j in range(n+1):\n",
    "            a[i][j] = float(input( 'a['+str(i)+']['+ str(j)+']='))\n",
    "\n",
    "    # Applying Gauss Elimination\n",
    "    for i in range(n):\n",
    "        if a[i][i] == 0.0:\n",
    "            sys.exit('Divide by zero detected!')\n",
    "\n",
    "        for j in range(i+1, n):\n",
    "            ratio = a[j][i]/a[i][i]\n",
    "\n",
    "            for k in range(n+1):\n",
    "                a[j][k] = a[j][k] - ratio * a[i][k]\n",
    "                \n",
    "            print(a)\n",
    "\n",
    "    # Back Substitution\n",
    "    x[n-1] = a[n-1][n]/a[n-1][n-1]\n",
    "\n",
    "    for i in range(n-2,-1,-1):\n",
    "        x[i] = a[i][n]\n",
    "\n",
    "        for j in range(i+1,n):\n",
    "            x[i] = x[i] - a[i][j]*x[j]\n",
    "\n",
    "        x[i] = x[i]/a[i][i]\n",
    "\n",
    "    # Displaying solution\n",
    "    print('\\nRequired solution is: ')\n",
    "    for i in range(n):\n",
    "        print('X%d = %0.2f' %(i,x[i]), end = '\\t')"
   ]
  },
  {
   "cell_type": "code",
   "execution_count": 6,
   "metadata": {},
   "outputs": [],
   "source": [
    "def simple_gauss(n, augmented_matrix):\n",
    "    # Applying Gauss Elimination\n",
    "    x = np.zeros(n)\n",
    "    \n",
    "    for i in range(n):\n",
    "        \n",
    "        print(f'Etapa {i}')\n",
    "        \n",
    "        if augmented_matrix[i][i] == 0.0:\n",
    "            return None\n",
    "\n",
    "        for j in range(i+1, n):\n",
    "            ratio = augmented_matrix[j][i]/augmented_matrix[i][i]\n",
    "            \n",
    "            #print(augmented_matrix)\n",
    "            \n",
    "            for k in range(n+1):\n",
    "                augmented_matrix[j][k] = augmented_matrix[j][k] - ratio * augmented_matrix[i][k]\n",
    "                \n",
    "        print(augmented_matrix)   \n",
    "                \n",
    "    # Back Substitution\n",
    "    x[n-1] = augmented_matrix[n-1][n]/augmented_matrix[n-1][n-1]\n",
    "    \n",
    "    for i in range(n-2,-1,-1):\n",
    "        x[i] = augmented_matrix[i][n]\n",
    "\n",
    "        for j in range(i+1,n):\n",
    "            x[i] = x[i] - augmented_matrix[i][j]*x[j]\n",
    "\n",
    "        x[i] = x[i]/augmented_matrix[i][i]\n",
    "        \n",
    "    # Displaying solution\n",
    "    print('\\nRequired solution is: ')\n",
    "    for i in range(n):\n",
    "        print('X%d = %f' %(i,x[i]), end = '\\t')"
   ]
  },
  {
   "cell_type": "code",
   "execution_count": 7,
   "metadata": {},
   "outputs": [
    {
     "name": "stdout",
     "output_type": "stream",
     "text": [
      "Etapa 0\n",
      "[[ 14.           6.          -2.           3.          12.        ]\n",
      " [  0.          13.71428571   2.42857143  -5.64285714  29.42857143]\n",
      " [  0.           7.         -24.           3.5        -18.        ]\n",
      " [  0.          -3.42857143  -1.85714286  15.78571429  13.14285714]]\n",
      "Etapa 1\n",
      "[[ 14.           6.          -2.           3.          12.        ]\n",
      " [  0.          13.71428571   2.42857143  -5.64285714  29.42857143]\n",
      " [  0.           0.         -25.23958333   6.38020833 -33.02083333]\n",
      " [  0.           0.          -1.25        14.375       20.5       ]]\n",
      "Etapa 2\n",
      "[[ 14.           6.          -2.           3.          12.        ]\n",
      " [  0.          13.71428571   2.42857143  -5.64285714  29.42857143]\n",
      " [  0.           0.         -25.23958333   6.38020833 -33.02083333]\n",
      " [  0.           0.           0.          14.05901775  22.13536938]]\n",
      "Etapa 3\n",
      "[[ 14.           6.          -2.           3.          12.        ]\n",
      " [  0.          13.71428571   2.42857143  -5.64285714  29.42857143]\n",
      " [  0.           0.         -25.23958333   6.38020833 -33.02083333]\n",
      " [  0.           0.           0.          14.05901775  22.13536938]]\n",
      "\n",
      "Required solution is: \n",
      "X0 = -0.304271\tX1 = 2.491502\tX2 = 1.706297\tX3 = 1.574461\t"
     ]
    }
   ],
   "source": [
    "n = 4\n",
    "a = np.array([[14, 6, -2, 3, 12], [3, 15, 2, -5, 32], [-7, 4, -23, 2, -24], [1, -3, -2, 16, 14]], float)\n",
    "simple_gauss(n,a)"
   ]
  }
 ],
 "metadata": {
  "kernelspec": {
   "display_name": "Python 3",
   "language": "python",
   "name": "python3"
  },
  "language_info": {
   "codemirror_mode": {
    "name": "ipython",
    "version": 3
   },
   "file_extension": ".py",
   "mimetype": "text/x-python",
   "name": "python",
   "nbconvert_exporter": "python",
   "pygments_lexer": "ipython3",
   "version": "3.8.5"
  }
 },
 "nbformat": 4,
 "nbformat_minor": 4
}
