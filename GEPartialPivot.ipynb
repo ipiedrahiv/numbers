{
 "cells": [
  {
   "cell_type": "code",
   "execution_count": 2,
   "metadata": {},
   "outputs": [],
   "source": [
    "import numpy as np"
   ]
  },
  {
   "cell_type": "code",
   "execution_count": 36,
   "metadata": {},
   "outputs": [],
   "source": [
    "def partial_pivot_gauss(n, augmented_matrix):\n",
    "    # Applying Gauss Elimination\n",
    "    x = np.zeros(n)\n",
    "    \n",
    "    for k in range(n):   \n",
    "        for i in range(k,n): \n",
    "            if abs(augmented_matrix[i][k]) > abs(augmented_matrix[k][k]):  \n",
    "                augmented_matrix[[k,i]] = augmented_matrix[[i,k]]\n",
    "            else: \n",
    "                pass  \n",
    "        print(augmented_matrix)\n",
    "    \n",
    "    for i in range(n):\n",
    "            \n",
    "        if augmented_matrix[i][i] == 0.0:\n",
    "            return None #Results in division by 0\n",
    "\n",
    "        for j in range(i+1, n):\n",
    "            ratio = augmented_matrix[j][i]/augmented_matrix[i][i]\n",
    "            \n",
    "            #print(augmented_matrix)\n",
    "            \n",
    "            for k in range(n+1):\n",
    "                augmented_matrix[j][k] = augmented_matrix[j][k] - ratio * augmented_matrix[i][k]\n",
    "                \n",
    "        print(augmented_matrix)   \n",
    "                \n",
    "    # Back Substitution\n",
    "    x[n-1] = augmented_matrix[n-1][n]/augmented_matrix[n-1][n-1]\n",
    "\n",
    "    for i in range(n-2,-1,-1):\n",
    "        x[i] = augmented_matrix[i][n]\n",
    "\n",
    "        for j in range(i+1,n):\n",
    "            x[i] = x[i] - augmented_matrix[i][j]*x[j]\n",
    "\n",
    "        x[i] = x[i]/augmented_matrix[i][i]\n",
    "        \n",
    "    # Displaying solution\n",
    "    print('\\nRequired solution is: ')\n",
    "    for i in range(n):\n",
    "        print('X%d = %f' %(i,x[i]), end = '\\t')"
   ]
  },
  {
   "cell_type": "code",
   "execution_count": 37,
   "metadata": {},
   "outputs": [
    {
     "name": "stdout",
     "output_type": "stream",
     "text": [
      "[[-12.  13.  -8.  -4. -32.]\n",
      " [  5.  -1.  14.  -1.  13.]\n",
      " [  1.   9.  -7.   5.  31.]\n",
      " [ -7.   2.  -3.   4. -12.]]\n",
      "[[-12.  13.  -8.  -4. -32.]\n",
      " [  1.   9.  -7.   5.  31.]\n",
      " [  5.  -1.  14.  -1.  13.]\n",
      " [ -7.   2.  -3.   4. -12.]]\n",
      "[[-12.  13.  -8.  -4. -32.]\n",
      " [  1.   9.  -7.   5.  31.]\n",
      " [  5.  -1.  14.  -1.  13.]\n",
      " [ -7.   2.  -3.   4. -12.]]\n",
      "[[-12.  13.  -8.  -4. -32.]\n",
      " [  1.   9.  -7.   5.  31.]\n",
      " [  5.  -1.  14.  -1.  13.]\n",
      " [ -7.   2.  -3.   4. -12.]]\n",
      "[[-12.          13.          -8.          -4.         -32.        ]\n",
      " [  0.          10.08333333  -7.66666667   4.66666667  28.33333333]\n",
      " [  0.           4.41666667  10.66666667  -2.66666667  -0.33333333]\n",
      " [  0.          -5.58333333   1.66666667   6.33333333   6.66666667]]\n",
      "[[-12.          13.          -8.          -4.         -32.        ]\n",
      " [  0.          10.08333333  -7.66666667   4.66666667  28.33333333]\n",
      " [  0.           0.          14.02479339  -4.7107438  -12.74380165]\n",
      " [  0.           0.          -2.5785124    8.91735537  22.3553719 ]]\n",
      "[[-12.          13.          -8.          -4.         -32.        ]\n",
      " [  0.          10.08333333  -7.66666667   4.66666667  28.33333333]\n",
      " [  0.           0.          14.02479339  -4.7107438  -12.74380165]\n",
      " [  0.           0.           0.           8.05126694  20.01237478]]\n",
      "[[-12.          13.          -8.          -4.         -32.        ]\n",
      " [  0.          10.08333333  -7.66666667   4.66666667  28.33333333]\n",
      " [  0.           0.          14.02479339  -4.7107438  -12.74380165]\n",
      " [  0.           0.           0.           8.05126694  20.01237478]]\n",
      "\n",
      "Required solution is: \n",
      "X0 = 3.624387\tX1 = 1.603455\tX2 = -0.073776\tX3 = 2.485618\t"
     ]
    }
   ],
   "source": [
    "a = np.array([[-7, 2, -3, 4, -12], [5, -1, 14, -1, 13], [1, 9, -7, 5, 31], [-12, 13, -8, -4, -32]], float)\n",
    "n=4\n",
    "partial_pivot_gauss(n,a)"
   ]
  },
  {
   "cell_type": "code",
   "execution_count": 35,
   "metadata": {},
   "outputs": [
    {
     "name": "stdout",
     "output_type": "stream",
     "text": [
      "[[ -7.   2.  -3.   4. -12.]\n",
      " [  5.  -1.  14.  -1.  13.]\n",
      " [  1.   9.  -7.   5.  31.]\n",
      " [-12.  13.  -8.  -4. -32.]]\n",
      "[[  5.  -1.  14.  -1.  13.]\n",
      " [ -7.   2.  -3.   4. -12.]\n",
      " [  1.   9.  -7.   5.  31.]\n",
      " [-12.  13.  -8.  -4. -32.]]\n"
     ]
    }
   ],
   "source": [
    "a = np.array([[-7, 2, -3, 4, -12], [5, -1, 14, -1, 13], [1, 9, -7, 5, 31], [-12, 13, -8, -4, -32]], float)\n",
    "print(a)\n",
    "a[[0,1]] = a[[1,0]]\n",
    "print(a)"
   ]
  },
  {
   "cell_type": "code",
   "execution_count": null,
   "metadata": {},
   "outputs": [],
   "source": []
  }
 ],
 "metadata": {
  "kernelspec": {
   "display_name": "Python 3",
   "language": "python",
   "name": "python3"
  },
  "language_info": {
   "codemirror_mode": {
    "name": "ipython",
    "version": 3
   },
   "file_extension": ".py",
   "mimetype": "text/x-python",
   "name": "python",
   "nbconvert_exporter": "python",
   "pygments_lexer": "ipython3",
   "version": "3.8.5"
  }
 },
 "nbformat": 4,
 "nbformat_minor": 4
}
