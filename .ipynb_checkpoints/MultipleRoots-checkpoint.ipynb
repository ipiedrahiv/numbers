{
 "cells": [
  {
   "cell_type": "code",
   "execution_count": 78,
   "metadata": {},
   "outputs": [],
   "source": [
    "import math\n",
    "import pandas as pd"
   ]
  },
  {
   "cell_type": "code",
   "execution_count": 98,
   "metadata": {},
   "outputs": [],
   "source": [
    "def multiple(f, f_derivate, f_second_derivate, x0, tolerance, max_iterations):\n",
    "    n = 0\n",
    "    \n",
    "    # NOOOO\n",
    "    alpha = 2\n",
    "    # NOOOO\n",
    "    \n",
    "    pd.set_option(\"display.precision\", 6)\n",
    "    data = {'n': [n],\n",
    "            'Xn': [x0],\n",
    "            'f(x)': [f(x0)],\n",
    "            'f\\'(x)': [f_derivate(x0)],\n",
    "            'f\\'\\'(x)':[f_second_derivate(x0)],\n",
    "            'E': [None],}\n",
    "    output = pd.DataFrame(data)\n",
    "    \n",
    "    while n < max_iterations:\n",
    "        n += 1\n",
    "        \n",
    "        x1 = x0 - ((f(x0)*f_derivate(x0))/(math.pow(f_derivate(x0),2)-(f(x0)*f_second_derivate(x0))))\n",
    "        err = abs(x1 - x0)\n",
    "        x0 = x1\n",
    "        \n",
    "        new_line = {'n':n,\n",
    "                    'Xn': x1,\n",
    "                    'f(x)':f(x1),\n",
    "                    'f\\'(x)': f_derivate(x1),\n",
    "                    'f\\'\\'(x)':f_second_derivate(x1),\n",
    "                    'E':err,}\n",
    "        output = output.append(new_line, ignore_index=True)\n",
    "        \n",
    "        print(output.loc[n,\"E\"]/math.pow(output.loc[n-1,\"E\"],alpha))\n",
    "        \n",
    "        if err <= tolerance:\n",
    "            break\n",
    "            \n",
    "        \n",
    "        \n",
    "    print (output)"
   ]
  },
  {
   "cell_type": "code",
   "execution_count": 99,
   "metadata": {},
   "outputs": [],
   "source": [
    "def f(x):\n",
    "    return math.pow(math.log(x)-1,3)"
   ]
  },
  {
   "cell_type": "code",
   "execution_count": 100,
   "metadata": {},
   "outputs": [],
   "source": [
    "def f_derivate(x):\n",
    "    return (3/x)*math.pow((math.log(x)-1),2)"
   ]
  },
  {
   "cell_type": "code",
   "execution_count": 101,
   "metadata": {},
   "outputs": [],
   "source": [
    "def f_second_derivate(x):\n",
    "    return (-3*(math.pow(math.log(x),2))+(12*math.log(x))-9)/(math.pow(x,2))"
   ]
  },
  {
   "cell_type": "code",
   "execution_count": 102,
   "metadata": {},
   "outputs": [
    {
     "name": "stdout",
     "output_type": "stream",
     "text": [
      "nan\n",
      "0.2072300024877831\n",
      "0.17633177662963365\n",
      "0.1837295271498728\n",
      "0.18393035879399408\n",
      "     n        Xn          f(x)         f'(x)        f''(x)             E\n",
      "0  0.0  2.000000 -2.889285e-02  1.412380e-01 -5.308982e-01           NaN\n",
      "1  1.0  2.885390  2.123498e-04  3.700707e-03  4.171325e-02  8.853901e-01\n",
      "2  2.0  2.722939  5.016930e-09  3.228806e-06  1.384149e-03  1.624508e-01\n",
      "3  3.0  2.718286  3.135452e-18  2.364247e-12  1.188486e-06  4.653444e-03\n",
      "4  4.0  2.718282  1.228974e-36  1.266257e-24  8.697808e-13  3.978578e-06\n",
      "5  5.0  2.718282  0.000000e+00  0.000000e+00  0.000000e+00  2.911449e-12\n"
     ]
    }
   ],
   "source": [
    "multiple(f, f_derivate, f_second_derivate, 2, 0.0000001, 100)"
   ]
  },
  {
   "cell_type": "code",
   "execution_count": 34,
   "metadata": {},
   "outputs": [],
   "source": [
    "def multiple_naive(f, f_derivate, x0, m, tolerance, max_iterations):\n",
    "    n = 0\n",
    "    \n",
    "    pd.set_option(\"display.precision\", 6)\n",
    "    data = {'n': [n],\n",
    "            'Xn': [x0],\n",
    "            'f(x)': [f(x0)],\n",
    "            'f\\'(x)': [f_derivate(x0)],\n",
    "            'E': [None],}\n",
    "    output = pd.DataFrame(data)\n",
    "    \n",
    "    while n < max_iterations:\n",
    "        n += 1\n",
    "        \n",
    "        x1 = x0 - (m*(f(x0)/f_derivate(x0)))\n",
    "        err = abs(x1 - x0)\n",
    "        x0 = x1\n",
    "        \n",
    "        new_line = {'n':n,\n",
    "                    'Xn': x1,\n",
    "                    'f(x)':f(x1),\n",
    "                    'f\\'(x)': f_derivate(x1),\n",
    "                    'E':err,}\n",
    "        output = output.append(new_line, ignore_index=True)\n",
    "        \n",
    "        if err <= tolerance:\n",
    "            break\n",
    "            \n",
    "        \n",
    "        \n",
    "    print (output)"
   ]
  },
  {
   "cell_type": "code",
   "execution_count": 35,
   "metadata": {},
   "outputs": [
    {
     "ename": "SyntaxError",
     "evalue": "invalid syntax (<ipython-input-35-33dcb25f5853>, line 1)",
     "output_type": "error",
     "traceback": [
      "\u001b[0;36m  File \u001b[0;32m\"<ipython-input-35-33dcb25f5853>\"\u001b[0;36m, line \u001b[0;32m1\u001b[0m\n\u001b[0;31m    def multiple_naive(f, f_derivate, 2, 3, 0.0000001, 100):\u001b[0m\n\u001b[0m                                      ^\u001b[0m\n\u001b[0;31mSyntaxError\u001b[0m\u001b[0;31m:\u001b[0m invalid syntax\n"
     ]
    }
   ],
   "source": [
    "def multiple_naive(f, f_derivate, 2, 3, 0.0000001, 100):"
   ]
  },
  {
   "cell_type": "code",
   "execution_count": null,
   "metadata": {},
   "outputs": [],
   "source": []
  }
 ],
 "metadata": {
  "kernelspec": {
   "display_name": "Python 3",
   "language": "python",
   "name": "python3"
  },
  "language_info": {
   "codemirror_mode": {
    "name": "ipython",
    "version": 3
   },
   "file_extension": ".py",
   "mimetype": "text/x-python",
   "name": "python",
   "nbconvert_exporter": "python",
   "pygments_lexer": "ipython3",
   "version": "3.8.5"
  }
 },
 "nbformat": 4,
 "nbformat_minor": 4
}
