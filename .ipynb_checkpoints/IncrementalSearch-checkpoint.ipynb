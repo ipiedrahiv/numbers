{
 "cells": [
  {
   "cell_type": "markdown",
   "metadata": {},
   "source": [
    "# Incremental Search\n",
    "\n",
    "This algorithm will find an interval [a, b] in which a continuous function f intercepts the x-axis."
   ]
  },
  {
   "cell_type": "code",
   "execution_count": 1,
   "metadata": {},
   "outputs": [],
   "source": [
    "import math\n",
    "import pandas as pd"
   ]
  },
  {
   "cell_type": "code",
   "execution_count": 2,
   "metadata": {},
   "outputs": [],
   "source": [
    "def incemental_search(f, x0, h, max_iterations):\n",
    "    previous_x = x0 # Xn-1\n",
    "    current_x = x0 + h # Xn\n",
    "    \n",
    "    previous_f = f(previous_x) # f(Xn-1)\n",
    "    current_f = f(current_x) # f(Xn)\n",
    "    \n",
    "    counter = 0\n",
    "    \n",
    "    pd.set_option(\"display.precision\", 8)\n",
    "    data = {'n': [counter],\n",
    "            'Xn-1': [previous_x],\n",
    "            'Xn': [current_x],\n",
    "            'f(Xn-1)': [previous_f],\n",
    "            'f(Xn)': [current_f]}\n",
    "    output = pd.DataFrame(data)\n",
    "    \n",
    "    while (previous_f * current_f > 0) and (counter < max_iterations):\n",
    "        previous_x = current_x\n",
    "        current_x = previous_x + h\n",
    "        \n",
    "        previous_f = current_f\n",
    "        current_f = f(current_x)\n",
    "        \n",
    "        counter += 1\n",
    "        \n",
    "        new_line = {'n': counter,\n",
    "            'Xn-1': previous_x,\n",
    "            'Xn': current_x,\n",
    "            'f(Xn-1)': previous_f,\n",
    "            'f(Xn)': current_f}\n",
    "        output = output.append(new_line, ignore_index=True)\n",
    "        \n",
    "    if previous_f * current_f < 0:\n",
    "        print(output)\n",
    "        print (f'There is a root in the interval [{previous_x},{current_x}]')\n",
    "        return [previous_x, current_x]\n",
    "    else:\n",
    "        print ('We have failed to find a root :(')\n",
    "        return None\n",
    "    "
   ]
  },
  {
   "cell_type": "code",
   "execution_count": 3,
   "metadata": {},
   "outputs": [
    {
     "name": "stdout",
     "output_type": "stream",
     "text": [
      "     n   Xn-1     Xn     f(Xn-1)       f(Xn)\n",
      "0  0.0  0.220  0.221  0.03177992  0.02843537\n",
      "1  1.0  0.221  0.222  0.02843537  0.02510399\n",
      "2  2.0  0.222  0.223  0.02510399  0.02178583\n",
      "3  3.0  0.223  0.224  0.02178583  0.01848092\n",
      "4  4.0  0.224  0.225  0.01848092  0.01518931\n",
      "5  5.0  0.225  0.226  0.01518931  0.01191103\n",
      "6  6.0  0.226  0.227  0.01191103  0.00864611\n",
      "7  7.0  0.227  0.228  0.00864611  0.00539461\n",
      "8  8.0  0.228  0.229  0.00539461  0.00215655\n",
      "9  9.0  0.229  0.230  0.00215655 -0.00106802\n",
      "There is a root in the interval [0.229,0.23]\n"
     ]
    },
    {
     "data": {
      "text/plain": [
       "[0.229, 0.23]"
      ]
     },
     "execution_count": 3,
     "metadata": {},
     "output_type": "execute_result"
    }
   ],
   "source": [
    "def function(x):\n",
    "    return (math.exp(-x)-math.sin(4*x))\n",
    "\n",
    "incemental_search(function, 0.22, 0.001, 30)"
   ]
  },
  {
   "cell_type": "code",
   "execution_count": null,
   "metadata": {},
   "outputs": [],
   "source": []
  }
 ],
 "metadata": {
  "kernelspec": {
   "display_name": "Python 3",
   "language": "python",
   "name": "python3"
  },
  "language_info": {
   "codemirror_mode": {
    "name": "ipython",
    "version": 3
   },
   "file_extension": ".py",
   "mimetype": "text/x-python",
   "name": "python",
   "nbconvert_exporter": "python",
   "pygments_lexer": "ipython3",
   "version": "3.8.5"
  }
 },
 "nbformat": 4,
 "nbformat_minor": 4
}
