{
 "cells": [
  {
   "cell_type": "markdown",
   "metadata": {},
   "source": [
    "# LU Factorization\n",
    "\n",
    "Direct method for equation sistem snumeric solution.\n",
    "\n",
    "La factorización de una matriz es escribirla como un producto de otras matrices. Su intención es expresar una matrix compleja mediante el producto de matrices más sencillas. \n",
    "\n",
    "This methods will revieve a square matrix A, a solution vector b, and will return a matrix L, a matrix U and the value of x.import numpy as np\n",
    "## Simple LU Factorization\n",
    "\n",
    "It is a LU factorization that uses simple gaussian elimination. \n",
    "\n",
    "## Partial LU Factorization"
   ]
  },
  {
   "cell_type": "code",
   "execution_count": 4,
   "metadata": {},
   "outputs": [],
   "source": [
    "import numpy as np"
   ]
  },
  {
   "cell_type": "code",
   "execution_count": 118,
   "metadata": {},
   "outputs": [],
   "source": [
    "def simple_LU(A, b):\n",
    "    \n",
    "    n = A.shape[0]\n",
    "    U = A\n",
    "    L = np.identity(n)\n",
    "    x = np.zeros(n)\n",
    "    z = np.zeros(n)\n",
    "    \n",
    "    for i in range(n):\n",
    "        \n",
    "        print(f'Etapa {i}')\n",
    "        \n",
    "        if U[i][i] == 0.0:\n",
    "            print(\"LU factorization can't be achieved\")\n",
    "            return None\n",
    "\n",
    "        for j in range(i+1, n):\n",
    "            ratio = U[j][i]/U[i][i]\n",
    "            \n",
    "            L[j][i] = ratio\n",
    "            \n",
    "            for k in range(n):\n",
    "                U[j][k] = U[j][k] - ratio * U[i][k]\n",
    "                \n",
    "        print(f'Matrix U \\n {U}')   \n",
    "        print(f'Matrix L \\n {L}')\n",
    "    \n",
    "    for i in range(n):\n",
    "        var = 0\n",
    "        \n",
    "        for j in range(i):\n",
    "            var = var + L[i][j] * z[j]\n",
    "\n",
    "        z[i] = (b[i] - var)/L[i][i]\n",
    "    \n",
    "    print('\\nZ values are: ')\n",
    "    for i in range(n):\n",
    "        print('z%d = %f' %(i,z[i]), end = '\\t')\n",
    "    \n",
    "    x[n-1] = z[n-1]/U[n-1,n-1]\n",
    "    \n",
    "    for i in range(n-1, -1, -1):\n",
    "        var = 0\n",
    "        \n",
    "        for j in range(i + 1, n):\n",
    "            var = var + U[i][j] * x[j]\n",
    "            \n",
    "        x[i] = (z[i] - var) / U[i][i]\n",
    "        \n",
    "    print('\\nX values are: ')\n",
    "    for i in range(n):\n",
    "        print('x%d = %f' %(i,x[i]), end = '\\t')\n",
    "        \n",
    "    return (x, L, U)"
   ]
  },
  {
   "cell_type": "code",
   "execution_count": 119,
   "metadata": {},
   "outputs": [
    {
     "name": "stdout",
     "output_type": "stream",
     "text": [
      "Etapa 0\n",
      "Matrix U \n",
      " [[ 4.    3.   -2.   -7.  ]\n",
      " [ 0.    9.75  9.5   2.25]\n",
      " [ 0.    1.5  -8.    6.5 ]\n",
      " [ 0.   -2.75 -4.5   7.75]]\n",
      "Matrix L \n",
      " [[1.   0.   0.   0.  ]\n",
      " [0.75 1.   0.   0.  ]\n",
      " [0.5  0.   1.   0.  ]\n",
      " [0.25 0.   0.   1.  ]]\n",
      "Etapa 1\n",
      "Matrix U \n",
      " [[ 4.          3.         -2.         -7.        ]\n",
      " [ 0.          9.75        9.5         2.25      ]\n",
      " [ 0.          0.         -9.46153846  6.15384615]\n",
      " [ 0.          0.         -1.82051282  8.38461538]]\n",
      "Matrix L \n",
      " [[ 1.          0.          0.          0.        ]\n",
      " [ 0.75        1.          0.          0.        ]\n",
      " [ 0.5         0.15384615  1.          0.        ]\n",
      " [ 0.25       -0.28205128  0.          1.        ]]\n",
      "Etapa 2\n",
      "Matrix U \n",
      " [[ 4.          3.         -2.         -7.        ]\n",
      " [ 0.          9.75        9.5         2.25      ]\n",
      " [ 0.          0.         -9.46153846  6.15384615]\n",
      " [ 0.          0.          0.          7.20054201]]\n",
      "Matrix L \n",
      " [[ 1.          0.          0.          0.        ]\n",
      " [ 0.75        1.          0.          0.        ]\n",
      " [ 0.5         0.15384615  1.          0.        ]\n",
      " [ 0.25       -0.28205128  0.19241192  1.        ]]\n",
      "Etapa 3\n",
      "Matrix U \n",
      " [[ 4.          3.         -2.         -7.        ]\n",
      " [ 0.          9.75        9.5         2.25      ]\n",
      " [ 0.          0.         -9.46153846  6.15384615]\n",
      " [ 0.          0.          0.          7.20054201]]\n",
      "Matrix L \n",
      " [[ 1.          0.          0.          0.        ]\n",
      " [ 0.75        1.          0.          0.        ]\n",
      " [ 0.5         0.15384615  1.          0.        ]\n",
      " [ 0.25       -0.28205128  0.19241192  1.        ]]\n",
      "\n",
      "Z values are: \n",
      "z0 = 20.000000\tz1 = 3.000000\tz2 = 20.538462\tz3 = 3.894309\t\n",
      "X values are: \n",
      "x0 = 3.570568\tx1 = 1.955213\tx2 = -1.818969\tx3 = 0.540836\t"
     ]
    },
    {
     "data": {
      "text/plain": [
       "(array([ 3.57056831,  1.95521265, -1.81896876,  0.54083553]),\n",
       " array([[ 1.        ,  0.        ,  0.        ,  0.        ],\n",
       "        [ 0.75      ,  1.        ,  0.        ,  0.        ],\n",
       "        [ 0.5       ,  0.15384615,  1.        ,  0.        ],\n",
       "        [ 0.25      , -0.28205128,  0.19241192,  1.        ]]),\n",
       " array([[ 4.        ,  3.        , -2.        , -7.        ],\n",
       "        [ 0.        ,  9.75      ,  9.5       ,  2.25      ],\n",
       "        [ 0.        ,  0.        , -9.46153846,  6.15384615],\n",
       "        [ 0.        ,  0.        ,  0.        ,  7.20054201]]))"
      ]
     },
     "execution_count": 119,
     "metadata": {},
     "output_type": "execute_result"
    }
   ],
   "source": [
    "A = np.array([[4, 3, -2, -7], [3, 12, 8, -3], [2, 3, -9, 3], [1, -2, -5, 6]], float)\n",
    "b = np.array([20, 18, 31, 12])\n",
    "\n",
    "simple_LU(A, b)"
   ]
  },
  {
   "cell_type": "code",
   "execution_count": 204,
   "metadata": {},
   "outputs": [],
   "source": [
    "def partial_LU(A, b):\n",
    "    n = A.shape[0]\n",
    "    U = A\n",
    "    L = np.zeros((n,n))\n",
    "    P = np.identity(n)\n",
    "    x = np.zeros(n)\n",
    "    z = np.zeros(n)\n",
    "    \n",
    "    for k in range(n):   \n",
    "        for i in range(k,n): \n",
    "            if abs(A[i][k]) > abs(A[k][k]):  \n",
    "                A[[k,i]] = A[[i,k]]\n",
    "                P[[k,i]] = P[[i,k]]\n",
    "                L[[k,i]] = L[[i,k]]\n",
    "                \n",
    "            else: \n",
    "                pass  \n",
    "            \n",
    "        for i in range(n):\n",
    "            L.itemset((i, i), 1)\n",
    "    \n",
    "    for i in range(n):\n",
    "            \n",
    "        if A[i][i] == 0.0:\n",
    "            return None #Results in division by 0\n",
    "\n",
    "        for j in range(i+1, n):\n",
    "            ratio = A[j][i]/A[i][i]\n",
    "            \n",
    "            L[j][i] = ratio\n",
    "            \n",
    "            for k in range(n):\n",
    "                A[j][k] = A[j][k] - ratio * A[i][k]\n",
    "                \n",
    "    Pb = b.dot(P)\n",
    "        \n",
    "    for i in range(n):\n",
    "        var = 0\n",
    "        \n",
    "        for j in range(i):\n",
    "            var = var + L[i][j] * z[j]\n",
    "\n",
    "        z[i] = (Pb[i] - var)/L[i][i]\n",
    "    \n",
    "    print('\\nZ values are: ')\n",
    "    for i in range(n):\n",
    "        print('z%d = %f' %(i,z[i]), end = '\\t')\n",
    "    \n",
    "    x[n-1] = z[n-1]/U[n-1,n-1]\n",
    "    \n",
    "    for i in range(n-1, -1, -1):\n",
    "        var = 0\n",
    "        \n",
    "        for j in range(i + 1, n):\n",
    "            var = var + U[i][j] * x[j]\n",
    "            \n",
    "        x[i] = (z[i] - var) / U[i][i]\n",
    "        \n",
    "    print('\\nX values are: ')\n",
    "    for i in range(n):\n",
    "        print('x%d = %f' %(i,x[i]), end = '\\t')\n",
    "    \n",
    "    return (L, U, P, x)"
   ]
  },
  {
   "cell_type": "code",
   "execution_count": 207,
   "metadata": {},
   "outputs": [
    {
     "name": "stdout",
     "output_type": "stream",
     "text": [
      "\n",
      "Z values are: \n",
      "z0 = -32.000000\tz1 = 28.333333\tz2 = -12.743802\tz3 = 20.012375\t\n",
      "X values are: \n",
      "x0 = 3.624387\tx1 = 1.603455\tx2 = -0.073776\tx3 = 2.485618\t"
     ]
    },
    {
     "data": {
      "text/plain": [
       "(array([[ 1.        ,  0.        ,  0.        ,  0.        ],\n",
       "        [-0.08333333,  1.        ,  1.        ,  0.        ],\n",
       "        [-0.41666667,  0.43801653,  1.        ,  0.        ],\n",
       "        [ 0.58333333, -0.55371901, -0.18385386,  1.        ]]),\n",
       " array([[-12.        ,  13.        ,  -8.        ,  -4.        ],\n",
       "        [  0.        ,  10.08333333,  -7.66666667,   4.66666667],\n",
       "        [  0.        ,   0.        ,  14.02479339,  -4.7107438 ],\n",
       "        [  0.        ,   0.        ,   0.        ,   8.05126694]]),\n",
       " array([[0., 0., 0., 1.],\n",
       "        [0., 0., 1., 0.],\n",
       "        [0., 1., 0., 0.],\n",
       "        [1., 0., 0., 0.]]),\n",
       " array([ 3.62438703,  1.60345459, -0.07377589,  2.48561809]))"
      ]
     },
     "execution_count": 207,
     "metadata": {},
     "output_type": "execute_result"
    }
   ],
   "source": [
    "A = np.array([[-7, 2, -3, 4], [5, -1, 14, -1], [1, 9, -7, 5], [-12, 13, -8, -4]], float)\n",
    "b = np.array([-12, 13, 31, -32])\n",
    "\n",
    "partial_LU(A, b)"
   ]
  },
  {
   "cell_type": "code",
   "execution_count": 202,
   "metadata": {},
   "outputs": [
    {
     "name": "stdout",
     "output_type": "stream",
     "text": [
      "\n",
      "Z values are: \n",
      "z0 = 30.000000\tz1 = -19.000000\tz2 = 26.909871\tz3 = -25.695459\t\n",
      "X values are: \n",
      "x0 = 1.484055\tx1 = -0.860289\tx2 = 0.736199\tx3 = -0.687495\t"
     ]
    },
    {
     "data": {
      "text/plain": [
       "(array([[ 1.        ,  0.        ,  0.        ,  0.        ],\n",
       "        [ 0.3       ,  1.        ,  0.        ,  0.        ],\n",
       "        [ 0.35      ,  0.91630901,  1.        ,  0.        ],\n",
       "        [-0.15      , -0.39270386,  0.32456811,  1.        ]]),\n",
       " array([[20.        , -1.        ,  3.        ,  4.        ],\n",
       "        [ 0.        , 23.3       ,  3.1       ,  1.8       ],\n",
       "        [ 0.        ,  0.        , 42.10944206,  5.95064378],\n",
       "        [ 0.        ,  0.        ,  0.        , 37.37547776]]),\n",
       " array([[1., 0., 0., 0.],\n",
       "        [0., 1., 0., 0.],\n",
       "        [0., 0., 1., 0.],\n",
       "        [0., 0., 0., 1.]]),\n",
       " array([ 1.48405482, -0.86028859,  0.73619854, -0.68749514]))"
      ]
     },
     "execution_count": 202,
     "metadata": {},
     "output_type": "execute_result"
    }
   ],
   "source": [
    "A = np.array([[20, -1, 3, 4], [6, 23, 4, 3], [7, 21, 46, 9], [-3, -9, 12, 38]], float)\n",
    "b = np.array([30, -10, 20, -14])\n",
    "\n",
    "partial_LU(A, b)"
   ]
  },
  {
   "cell_type": "code",
   "execution_count": 203,
   "metadata": {},
   "outputs": [
    {
     "name": "stdout",
     "output_type": "stream",
     "text": [
      "\n",
      "Z values are: \n",
      "z0 = 123.000000\tz1 = -102.588235\tz2 = 276.900535\t\n",
      "X values are: \n",
      "x0 = 17.030482\tx1 = -8.919399\tx2 = -8.445119\t"
     ]
    },
    {
     "data": {
      "text/plain": [
       "(array([[1.        , 0.        , 0.        ],\n",
       "        [0.64705882, 1.        , 1.        ],\n",
       "        [0.        , 0.41818182, 1.        ]]),\n",
       " array([[ 34.        ,   0.        ,  54.        ],\n",
       "        [  0.        ,  55.        , -45.94117647],\n",
       "        [  0.        ,   0.        , -32.78823529]]),\n",
       " array([[0., 1., 0.],\n",
       "        [0., 0., 1.],\n",
       "        [1., 0., 0.]]),\n",
       " array([17.03048243, -8.91939851, -8.44511857]))"
      ]
     },
     "execution_count": 203,
     "metadata": {},
     "output_type": "execute_result"
    }
   ],
   "source": [
    "A = np.array([[0, 23, -52], [34, 0, 54], [22, 55, -11]], float)\n",
    "b = np.array([-23, 234, 123])\n",
    "\n",
    "partial_LU(A,b)"
   ]
  }
 ],
 "metadata": {
  "kernelspec": {
   "display_name": "Python 3",
   "language": "python",
   "name": "python3"
  },
  "language_info": {
   "codemirror_mode": {
    "name": "ipython",
    "version": 3
   },
   "file_extension": ".py",
   "mimetype": "text/x-python",
   "name": "python",
   "nbconvert_exporter": "python",
   "pygments_lexer": "ipython3",
   "version": "3.8.5"
  }
 },
 "nbformat": 4,
 "nbformat_minor": 4
}
