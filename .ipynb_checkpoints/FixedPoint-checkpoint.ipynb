{
 "cells": [
  {
   "cell_type": "markdown",
   "metadata": {},
   "source": [
    "# Fixed Point Theorem\n",
    "\n",
    "Lets say we want to find the roots for the following function:\n",
    "\n",
    "$ f(x): xe^{x}-x^{2}-5x-3 = 0 $\n",
    "\n",
    "In orther to find $ g(x) $ we could add x to both sides as follows\n",
    "\n",
    "$ g(x): xe^{x}-x^{2}-5x-3+x = x $\n",
    "\n",
    "But we will find that we can add any multiple or power of x to either side will work as well, so we´ll have infinite $ g(x) $ functions. But these will usually be rather bad to find the root with this theorem.\n",
    "\n",
    "MAny times, in order to define a more usefull $ g(x) $ functions, some of the variables in the original $ f(x) $ function.\n",
    "\n",
    "This time we'll finf $ g(x) $ by solving for the $ x $ in the term $ 5x $ as follows:\n",
    "\n",
    "$ f(x): xe^{x}-x^{2}-5x-3 = 0 $\n",
    "\n",
    "$ g_{1}(x): \\frac{xe^{x}-x^{2}-3}{5}= x $\n",
    "\n",
    "We could do this for all the varibales in $ f(x) $ and will fins that the roots of $ f(x) $ will be fixed points in these $ g_{n}(x)$ functions. Sometimes, you will find that this is snot true for a partigular $ g_{n}(x)$ function, but you'll eventually find one that works. Out of all the $ g_{n}(x)$ functions the preferred one, is the one with the smallest $ k $. $ k $ being the local maximum of $ |g_{n}'(x)| $ in the chosen interval.\n",
    "\n",
    "## The fixed point method\n",
    "\n",
    "A function in the form $ x = g(x) $ is used to create a sucession $ {x_{n}}^{\\inf}_{n=0} $ as follows:\n",
    "\n",
    "Step 0. Select an initial aproximation $ x_{0} $.\n",
    "\n",
    "Step 1. Calculate $ x_{1} = g(x_{0}) $\n",
    "\n",
    "Step 2. Calculate $ x_{2} = g(x_{1}) $\n",
    "\n",
    ".\n",
    ".\n",
    ".\n",
    "\n",
    "Step n. Calculate $ x_{n} = g(x_{n-1}) $"
   ]
  },
  {
   "cell_type": "code",
   "execution_count": 2,
   "metadata": {},
   "outputs": [],
   "source": [
    "import math\n",
    "import pandas as pd"
   ]
  },
  {
   "cell_type": "code",
   "execution_count": 114,
   "metadata": {},
   "outputs": [],
   "source": [
    "# General chart structure: n, xn, checking condition, error \n",
    "\n",
    "def fixed_point(f, g, x0, tolerance, max_iterations):\n",
    "    current_aproximation = x0\n",
    "    current_f = f(current_aproximation) \n",
    "    n = 0\n",
    "    \n",
    "    # We create a data frame in which we will sotre the obtained values, to create the method chart\n",
    "    pd.set_option(\"display.precision\", 10)\n",
    "    data = {'n': [n],\n",
    "            'Xn': [current_aproximation],\n",
    "            'f(x)': [current_f],\n",
    "            'E': [None]}\n",
    "    output = pd.DataFrame(data)\n",
    "    \n",
    "    while (n < max_iterations):\n",
    "        n += 1\n",
    "        \n",
    "        current_f = f(current_aproximation)\n",
    "        previous_aproximation = current_aproximation\n",
    "        current_aproximation = g(previous_aproximation)\n",
    "        err = abs(current_aproximation - previous_aproximation)\n",
    "        \n",
    "        new_line = {'n':n,\n",
    "                    'Xn': current_aproximation,\n",
    "                    'f(x)':current_f,\n",
    "                    'E':err}\n",
    "        output = output.append(new_line, ignore_index=True)\n",
    "        \n",
    "        if err <= tolerance:\n",
    "            break\n",
    "            \n",
    "    print(output)"
   ]
  },
  {
   "cell_type": "code",
   "execution_count": 115,
   "metadata": {},
   "outputs": [],
   "source": [
    "def f(x):\n",
    "    return ((x*math.exp(x)) - (x*x) - (5*x) - 3)"
   ]
  },
  {
   "cell_type": "code",
   "execution_count": 116,
   "metadata": {},
   "outputs": [],
   "source": [
    "def g1(x):\n",
    "    return ((x*math.exp(x) - (x*x) - 3)/5)"
   ]
  },
  {
   "cell_type": "code",
   "execution_count": 117,
   "metadata": {},
   "outputs": [],
   "source": [
    "def g2(x):\n",
    "    return (((x*x)-(5*x)-(3))/(math.exp(x)))"
   ]
  },
  {
   "cell_type": "code",
   "execution_count": 118,
   "metadata": {},
   "outputs": [
    {
     "name": "stdout",
     "output_type": "stream",
     "text": [
      "       n            Xn          f(x)             E\n",
      "0    0.0  0.0000000000 -3.0000000000           NaN\n",
      "1    1.0 -0.6000000000 -3.0000000000  0.6000000000\n",
      "2    2.0 -0.7378573963 -0.6892869817  0.1378573963\n",
      "3    3.0 -0.7794461328 -0.2079436823  0.0415887365\n",
      "4    4.0 -0.7930074040 -0.0678063558  0.0135612712\n",
      "5    5.0 -0.7975364560 -0.0226452602  0.0045290520\n",
      "6    6.0 -0.7990609086 -0.0076222629  0.0015244526\n",
      "7    7.0 -0.7995753754 -0.0025723339  0.0005144668\n",
      "8    8.0 -0.7997491489 -0.0008688675  0.0001737735\n",
      "9    9.0 -0.7998078625 -0.0002935682  0.0000587136\n",
      "10  10.0 -0.7998277023 -0.0000991992  0.0000198398\n",
      "11  11.0 -0.7998344066 -0.0000335214  0.0000067043\n",
      "12  12.0 -0.7998366721 -0.0000113277  0.0000022655\n",
      "13  13.0 -0.7998374377 -0.0000038279  0.0000007656\n",
      "14  14.0 -0.7998376964 -0.0000012935  0.0000002587\n",
      "15  15.0 -0.7998377839 -0.0000004371  0.0000000874\n"
     ]
    }
   ],
   "source": [
    "fixed_point(f, g1, 0, 0.0000001, 100)"
   ]
  },
  {
   "cell_type": "code",
   "execution_count": 96,
   "metadata": {},
   "outputs": [
    {
     "data": {
      "text/plain": [
       "False"
      ]
     },
     "execution_count": 96,
     "metadata": {},
     "output_type": "execute_result"
    }
   ],
   "source": [
    "2.583889679996787e-08 >= 0.0000001"
   ]
  },
  {
   "cell_type": "markdown",
   "metadata": {},
   "source": [
    "## Fixed point convergence theorem\n",
    "\n",
    "If $g$ is a continuous function in the interval $[a, b]$, $g(x) \\in [a, b]$ for all $x \\in [a, b]$ and $g'(x)$ exists in $(a, b)$ with the property $|g'(x)| \\leq k \\le 1$ for all $x \\in (a, b)$; then, if $p_{0}$ is any number in $[a, b]$, the sucession defined by $p_{n} = g(p_{n-1})$ converges to the only fixed point $p_{u}$ in $[a, b]$.\n",
    "\n",
    "## Theorem of error acotation\n",
    "\n",
    "If $g$ is a function that is continuous in the interval $[a, b]$, $g(x) \\in [a, b]$ for all $x \\in [a, b]$ and $g'(x)$ exists in $[a, b]$ with the property $g'(x) \\leq k \\le 1$ for all $x \\in (a, b)$; then, the heights of error are given by:\n",
    "\n",
    "$|p_{n} - p_{u}| \\leq k^{n} * max{p_{0}-a, b-p_{0}}$ for exactitude error(?)\n",
    "\n",
    "$|p_{n} - p_{u}| \\leq \\frac{k^{n}}{1-k} * |p_{1} - p_{0}| $ for absolute error(?)"
   ]
  },
  {
   "cell_type": "code",
   "execution_count": null,
   "metadata": {},
   "outputs": [],
   "source": []
  }
 ],
 "metadata": {
  "kernelspec": {
   "display_name": "Python 3",
   "language": "python",
   "name": "python3"
  },
  "language_info": {
   "codemirror_mode": {
    "name": "ipython",
    "version": 3
   },
   "file_extension": ".py",
   "mimetype": "text/x-python",
   "name": "python",
   "nbconvert_exporter": "python",
   "pygments_lexer": "ipython3",
   "version": "3.8.5"
  }
 },
 "nbformat": 4,
 "nbformat_minor": 4
}
