{
 "cells": [
  {
   "cell_type": "markdown",
   "metadata": {},
   "source": [
    "# Fixed Point Theorem\n",
    "\n",
    "Lets say we want to find the roots for the following function:\n",
    "\n",
    "$ f(x): xe^{x}-x^{2}-5x-3 = 0 $\n",
    "\n",
    "In orther to find $ g(x) $ we could add x to both sides as follows\n",
    "\n",
    "$ g(x): xe^{x}-x^{2}-5x-3+x = x $\n",
    "\n",
    "But we will find that we can add any multiple or power of x to either side will work as well, so we´ll have infinite $ g(x) $ functions. But these will usually be rather bad to find the root with this theorem.\n",
    "\n",
    "MAny times, in order to define a more usefull $ g(x) $ functions, some of the variables in the original $ f(x) $ function.\n",
    "\n",
    "This time we'll finf $ g(x) $ by solving for the $ x $ in the term $ 5x $ as follows:\n",
    "\n",
    "$ f(x): xe^{x}-x^{2}-5x-3 = 0 $\n",
    "\n",
    "$ g_{1}(x): \\frac{xe^{x}-x^{2}-3}{5}= x $\n",
    "\n",
    "We could do this for all the varibales in $ f(x) $ and will fins that the roots of $ f(x) $ will be fixed points in these $ g_{n}(x)$ functions. Sometimes, you will find that this is snot true for a partigular $ g_{n}(x)$ function, but you'll eventually find one that works. Out of all the $ g_{n}(x)$ functions the preferred one, is the one with the smallest $ k $. $ k $ being the local maximum of $ |g_{n}'(x)| $ in the chosen interval.\n",
    "\n",
    "## The fixed point method\n",
    "\n",
    "A function in the form $ x = g(x) $ is used to create a sucession $ {x_{n}}^{\\inf}_{n=0} $ as follows:\n",
    "\n",
    "Step 0. Select an initial aproximation $ x_{0} $.\n",
    "\n",
    "Step 1. Calculate $ x_{1} = g(x_{0}) $\n",
    "\n",
    "Step 2. Calculate $ x_{2} = g(x_{1}) $\n",
    "\n",
    ".\n",
    ".\n",
    ".\n",
    "\n",
    "Step n. Calculate $ x_{n} = g(x_{n-1}) $"
   ]
  },
  {
   "cell_type": "code",
   "execution_count": 1,
   "metadata": {},
   "outputs": [],
   "source": [
    "import math\n",
    "import pandas as pd"
   ]
  },
  {
   "cell_type": "code",
   "execution_count": 34,
   "metadata": {},
   "outputs": [],
   "source": [
    "# General chart structure: n, xn, checking condition, error \n",
    "\n",
    "def fixed_point(f, g, x0, tolerance, max_iterations):\n",
    "    previous_aproximation = x0\n",
    "    current_aproximation = g(x0)\n",
    "    current_f = f(previous_aproximation) \n",
    "    err = abs(current_aproximation - previous_aproximation)\n",
    "    counter = 0\n",
    "    \n",
    "    # We create a data frame in which we will sotre the obtained values, to create the method chart\n",
    "    pd.set_option(\"display.precision\", 8)\n",
    "    data = {'n': [counter],\n",
    "            'Xn': [previous_aproximation],\n",
    "            'f(x)': [current_f],\n",
    "            'E': [err]}\n",
    "    output = pd.DataFrame(data)\n",
    "    \n",
    "    while (err>=tolerance)and (counter < max_iterations):\n",
    "        counter += 1\n",
    "        previous_aproximation = current_aproximation\n",
    "        current_aproximation = g(previous_aproximation)\n",
    "        err = abs(current_aproximation - previous_aproximation)\n",
    "        current_f = f(previous_aproximation)\n",
    "        print(f'n = {counter} | xn = {current_aproximation} | f(x) = {current_f} | E = {err}')\n",
    "         new_line = {'n':count,\n",
    "                    'Xn': current_aproximation,\n",
    "                    'f(x)':current_f,\n",
    "                    'b': b,\n",
    "                    'f(c)':f_c,\n",
    "                    'E':err}\n",
    "        output = output.append(new_line, ignore_index=True)"
   ]
  },
  {
   "cell_type": "code",
   "execution_count": 35,
   "metadata": {},
   "outputs": [],
   "source": [
    "def f(x):\n",
    "    return ((x*math.exp(x)) - (x*x) - (5*x) - 3)"
   ]
  },
  {
   "cell_type": "code",
   "execution_count": 36,
   "metadata": {},
   "outputs": [],
   "source": [
    "def g(x):\n",
    "    return ((x*math.exp(x) - (x*x) - 3)/5)"
   ]
  },
  {
   "cell_type": "code",
   "execution_count": 37,
   "metadata": {},
   "outputs": [
    {
     "name": "stdout",
     "output_type": "stream",
     "text": [
      "n = 0 | x0 = -4.2 | f(x) = 0.29701857735399173 | E = 0.0594037154707987\n",
      "n = 1 | xn = -4.042085677971156 | f(x) = 0.4925530327902301 | E = 0.09851060655804567\n",
      "n = 2 | xn = -3.881887783716759 | f(x) = 0.8009894712719827 | E = 0.1601978942543969\n",
      "n = 3 | xn = -3.6298131522945574 | f(x) = 1.2603731571110082 | E = 0.25207463142220154\n",
      "n = 4 | xn = -3.2543620602066667 | f(x) = 1.8772554604394553 | E = 0.3754510920878906\n",
      "n = 5 | xn = -2.7433017001255324 | f(x) = 2.5553018004056725 | E = 0.5110603600811343\n",
      "n = 6 | xn = -2.1404512549991237 | f(x) = 3.014252225632042 | E = 0.6028504451264087\n",
      "n = 7 | xn = -1.5666504831018833 | f(x) = 2.8690038594862033 | E = 0.5738007718972404\n",
      "n = 8 | xn = -1.1562842747580335 | f(x) = 2.0518310417192485 | E = 0.41036620834384974\n",
      "n = 9 | xn = -0.9401643687326494 | f(x) = 1.0805995301269196 | E = 0.2161199060253841\n",
      "n = 10 | xn = -0.850220610459756 | f(x) = 0.44971879136446713 | E = 0.08994375827289336\n",
      "n = 11 | xn = -0.8172383820956514 | f(x) = 0.16491114182052335 | E = 0.03298222836410469\n",
      "n = 12 | xn = -0.8057623219982848 | f(x) = 0.05738030048683296 | E = 0.01147606009736657\n",
      "n = 13 | xn = -0.8018450012261648 | f(x) = 0.01958660386060007 | E = 0.0039173207721200365\n",
      "n = 14 | xn = -0.8005166926199424 | f(x) = 0.006641543031111752 | E = 0.0013283086062223504\n",
      "n = 15 | xn = -0.800067301499371 | f(x) = 0.002246955602856815 | E = 0.0004493911205714074\n",
      "n = 16 | xn = -0.7999153810207547 | f(x) = 0.0007596023930820373 | E = 0.00015192047861634084\n",
      "n = 17 | xn = -0.7998640363610363 | f(x) = 0.0002567232985919432 | E = 5.134465971834423e-05\n",
      "n = 18 | xn = -0.799846684898623 | f(x) = 8.675731206686521e-05 | E = 1.7351462413328633e-05\n",
      "n = 19 | xn = -0.7998408213032674 | f(x) = 2.931797677785397e-05 | E = 5.863595355592999e-06\n",
      "n = 20 | xn = -0.7998388398330791 | f(x) = 9.907350941418258e-06 | E = 1.981470188261447e-06\n",
      "n = 21 | xn = -0.7998381702420594 | f(x) = 3.3479550984871764e-06 | E = 6.695910197418442e-07\n",
      "n = 22 | xn = -0.7998379439698587 | f(x) = 1.131361003103848e-06 | E = 2.2627220064297404e-07\n",
      "n = 23 | xn = -0.7998378675066335 | f(x) = 3.82316125868698e-07 | E = 7.646322519594406e-08\n"
     ]
    }
   ],
   "source": [
    "fixed_point(f, g, -4.2, 0.0000001, 100)"
   ]
  },
  {
   "cell_type": "code",
   "execution_count": 33,
   "metadata": {},
   "outputs": [
    {
     "data": {
      "text/plain": [
       "False"
      ]
     },
     "execution_count": 33,
     "metadata": {},
     "output_type": "execute_result"
    }
   ],
   "source": [
    "2.583889679996787e-08 >= 0.0000001"
   ]
  },
  {
   "cell_type": "code",
   "execution_count": null,
   "metadata": {},
   "outputs": [],
   "source": []
  }
 ],
 "metadata": {
  "kernelspec": {
   "display_name": "Python 3",
   "language": "python",
   "name": "python3"
  },
  "language_info": {
   "codemirror_mode": {
    "name": "ipython",
    "version": 3
   },
   "file_extension": ".py",
   "mimetype": "text/x-python",
   "name": "python",
   "nbconvert_exporter": "python",
   "pygments_lexer": "ipython3",
   "version": "3.8.5"
  }
 },
 "nbformat": 4,
 "nbformat_minor": 4
}
